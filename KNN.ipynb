{
 "cells": [
  {
   "cell_type": "code",
   "execution_count": 1,
   "id": "9194172f",
   "metadata": {},
   "outputs": [],
   "source": [
    "%matplotlib inline\n",
    "import numpy as np\n",
    "\n",
    "import matplotlib.pyplot as plt"
   ]
  },
  {
   "cell_type": "code",
   "execution_count": 2,
   "id": "0c37fb6e",
   "metadata": {},
   "outputs": [],
   "source": [
    "dataset = np.array([\n",
    "    [120, 3],\n",
    "    [105, 2],\n",
    "    [25, 12],\n",
    "    [32, 15],\n",
    "    [17, 9],\n",
    "    [98, 5],\n",
    "    [130, 1],\n",
    "    [0, 16],\n",
    "    [40, 20],\n",
    "    [100, 10]\n",
    "])\n",
    "\n",
    "labels = np.array([\"comedy\", \"comedy\", \"drama\",\n",
    "                   \"drama\",\"drama\",\"comedy\",\"comedy\",\n",
    "                   \"drama\",\"drama\",\"comedy\"])"
   ]
  },
  {
   "cell_type": "code",
   "execution_count": 3,
   "id": "fd715f7b",
   "metadata": {},
   "outputs": [
    {
     "data": {
      "image/png": "[encoded data removed]",
      "text/plain": [
       "<Figure size 432x288 with 1 Axes>"
      ]
     },
     "metadata": {
      "needs_background": "light"
     },
     "output_type": "display_data"
    }
   ],
   "source": [
    "plt.title(\"The Category of Movie\")\n",
    "plt.scatter(dataset[labels==\"comedy\",0],dataset[labels==\"comedy\",1],\n",
    "            label='comedy', c='g')\n",
    "plt.scatter(dataset[labels==\"drama\",0],dataset[labels==\"drama\",1],\n",
    "            label='drama', c='r')\n",
    "\n",
    "plt.xlim(-10,140)\n",
    "plt.ylim(-10,40)\n",
    "\n",
    "plt.xlabel('The number of smile')\n",
    "plt.ylabel('The number of cry')\n",
    "plt.legend()\n",
    "plt.show()"
   ]
  },
  {
   "cell_type": "code",
   "execution_count": 18,
   "id": "395a77f0",
   "metadata": {},
   "outputs": [],
   "source": [
    "def classify_knn(inX, dataset, labels, K):\n",
    "    # (1) 우리가 분류항목을 알고자 하는 점 (inX)와 \n",
    "    # 알고 있는 점들(dataset)과의 모든 점 거리를 계산\n",
    "    dists = np.sqrt(np.sum((inX-dataset)**2, axis=1))\n",
    "    \n",
    "    # (2) 오름 차순으로 거리의 길이를 정렬\n",
    "    sorted_index = dists.argsort()\n",
    "    \n",
    "    # (3) inX와의 거리가 가장짧은 K개의 아이템 추출\n",
    "    sorted_labels = labels[sorted_index]\n",
    "    K_nearest_labels = sorted_labels[:10]\n",
    "    \n",
    "    # (4) K개의 아이템에서 가장 많은 분류 항목 찾기\n",
    "    _labels, count_labels = np.unique(K_nearest_labels,\n",
    "          return_counts=True)\n",
    "    \n",
    "    # (5) 해당 항목 반환\n",
    "    return _labels[count_labels.argmax()]"
   ]
  },
  {
   "cell_type": "code",
   "execution_count": 19,
   "id": "e532abd7",
   "metadata": {},
   "outputs": [
    {
     "data": {
      "image/png": "[encoded data removed]",
      "text/plain": [
       "<Figure size 432x288 with 1 Axes>"
      ]
     },
     "metadata": {
      "needs_background": "light"
     },
     "output_type": "display_data"
    }
   ],
   "source": [
    "inX = np.array([60,0])\n",
    "\n",
    "plt.title(\"The Category of Movie\")\n",
    "plt.scatter(dataset[labels==\"comedy\",0],dataset[labels==\"comedy\",1],\n",
    "            label='comedy', c='g')\n",
    "plt.scatter(dataset[labels==\"drama\",0],dataset[labels==\"drama\",1],\n",
    "            label='drama', c='r')\n",
    "plt.scatter(inX[0],inX[1],label=\"?\",\n",
    "            c='b')\n",
    "\n",
    "\n",
    "\n",
    "plt.xlim(-10,140)\n",
    "plt.ylim(-10,40)\n",
    "\n",
    "plt.xlabel('The number of smile')\n",
    "plt.ylabel('The number of cry')\n",
    "plt.legend()\n",
    "plt.show()"
   ]
  },
  {
   "cell_type": "code",
   "execution_count": 20,
   "id": "5cf61af5",
   "metadata": {},
   "outputs": [
    {
     "name": "stdout",
     "output_type": "stream",
     "text": [
      "[60.07495318 45.04442252 37.         31.76476035 43.93176527 38.32753579\n",
      " 70.00714249 62.09669879 28.28427125 41.23105626]\n",
      "[8 3 2 5 9 4 1 0 7 6]\n",
      "['drama' 'drama' 'drama' 'comedy' 'comedy' 'drama' 'comedy' 'comedy'\n",
      " 'drama' 'comedy']\n",
      "[5 5]\n"
     ]
    },
    {
     "data": {
      "text/plain": [
       "'comedy'"
      ]
     },
     "execution_count": 20,
     "metadata": {},
     "output_type": "execute_result"
    }
   ],
   "source": [
    "classify_knn(inX,dataset,labels,4)"
   ]
  },
  {
   "cell_type": "code",
   "execution_count": 99,
   "id": "bbe74f29",
   "metadata": {},
   "outputs": [],
   "source": [
    "def classify_knn(inX, dataset, labels, K):\n",
    "    ##########\n",
    "    with np.errstate(divide='ignore',invalid='ignore'):\n",
    "        data = dataset.transpose()[1]/dataset.transpose()[0]\n",
    "        dists = np.true_divide(inX[1], inX[0] ) - data\n",
    "    # (2) 오름 차순으로 거리의 길이를 정렬\n",
    "    sorted_index = dists.argsort()\n",
    "    \n",
    "    # (3) inX와의 거리가 가장짧은 K개의 아이템 추출\n",
    "    sorted_labels = labels[sorted_index]\n",
    "    K_nearest_labels = sorted_labels[:10]\n",
    "    \n",
    "    # (4) K개의 아이템에서 가장 많은 분류 항목 찾기\n",
    "    _labels, count_labels = np.unique(K_nearest_labels,\n",
    "          return_counts=True)\n",
    "    \n",
    "    ##########    \n",
    "    return _labels[count_labels.argmax()]"
   ]
  },
  {
   "cell_type": "code",
   "execution_count": 100,
   "id": "894639c6",
   "metadata": {},
   "outputs": [
    {
     "name": "stderr",
     "output_type": "stream",
     "text": [
      "C:\\Users\\32151341\\Anaconda3\\envs\\tensor\\lib\\site-packages\\ipykernel_launcher.py:1: RuntimeWarning: divide by zero encountered in true_divide\n",
      "  \"\"\"Entry point for launching an IPython kernel.\n"
     ]
    }
   ],
   "source": [
    "inY = dataset.transpose()[1]/dataset.transpose()[0]"
   ]
  },
  {
   "cell_type": "code",
   "execution_count": 101,
   "id": "2034a8ac",
   "metadata": {},
   "outputs": [
    {
     "name": "stderr",
     "output_type": "stream",
     "text": [
      "C:\\Users\\32151341\\Anaconda3\\envs\\tensor\\lib\\site-packages\\ipykernel_launcher.py:3: RuntimeWarning: divide by zero encountered in true_divide\n",
      "  This is separate from the ipykernel package so we can avoid doing imports until\n"
     ]
    },
    {
     "data": {
      "text/plain": [
       "'comedy'"
      ]
     },
     "execution_count": 101,
     "metadata": {},
     "output_type": "execute_result"
    }
   ],
   "source": [
    "inX = [60, 0]\n",
    "classify_knn(inX,dataset,labels,4)"
   ]
  },
  {
   "cell_type": "code",
   "execution_count": 104,
   "id": "779e3557",
   "metadata": {},
   "outputs": [
    {
     "name": "stderr",
     "output_type": "stream",
     "text": [
      "C:\\Users\\32151341\\Anaconda3\\envs\\tensor\\lib\\site-packages\\ipykernel_launcher.py:1: RuntimeWarning: divide by zero encountered in true_divide\n",
      "  \"\"\"Entry point for launching an IPython kernel.\n"
     ]
    }
   ],
   "source": [
    "data = np.true_divide(dataset.transpose()[1], dataset.transpose()[0])\n",
    "dists = np.true_divide(inX[1], inX[0]) - data"
   ]
  },
  {
   "cell_type": "code",
   "execution_count": 105,
   "id": "7aa86180",
   "metadata": {},
   "outputs": [
    {
     "data": {
      "text/plain": [
       "array([-0.025     , -0.01904762, -0.48      , -0.46875   , -0.52941176,\n",
       "       -0.05102041, -0.00769231,        -inf, -0.5       , -0.1       ])"
      ]
     },
     "execution_count": 105,
     "metadata": {},
     "output_type": "execute_result"
    }
   ],
   "source": [
    "dists"
   ]
  },
  {
   "cell_type": "code",
   "execution_count": 110,
   "id": "6ad8461f",
   "metadata": {},
   "outputs": [
    {
     "ename": "ValueError",
     "evalue": "The truth value of an array with more than one element is ambiguous. Use a.any() or a.all()",
     "output_type": "error",
     "traceback": [
      "\u001b[1;31m---------------------------------------------------------------------------\u001b[0m",
      "\u001b[1;31mValueError\u001b[0m                                Traceback (most recent call last)",
      "\u001b[1;32m<ipython-input-110-ac6d91c1c399>\u001b[0m in \u001b[0;36m<module>\u001b[1;34m\u001b[0m\n\u001b[1;32m----> 1\u001b[1;33m \u001b[0mdivision\u001b[0m\u001b[1;33m(\u001b[0m\u001b[0mdataset\u001b[0m\u001b[1;33m.\u001b[0m\u001b[0mtranspose\u001b[0m\u001b[1;33m(\u001b[0m\u001b[1;33m)\u001b[0m\u001b[1;33m[\u001b[0m\u001b[1;36m1\u001b[0m\u001b[1;33m]\u001b[0m\u001b[1;33m,\u001b[0m \u001b[0mdataset\u001b[0m\u001b[1;33m.\u001b[0m\u001b[0mtranspose\u001b[0m\u001b[1;33m(\u001b[0m\u001b[1;33m)\u001b[0m\u001b[1;33m[\u001b[0m\u001b[1;36m0\u001b[0m\u001b[1;33m]\u001b[0m\u001b[1;33m)\u001b[0m\u001b[1;33m\u001b[0m\u001b[1;33m\u001b[0m\u001b[0m\n\u001b[0m",
      "\u001b[1;32m<ipython-input-108-496811fe9aef>\u001b[0m in \u001b[0;36mdivision\u001b[1;34m(x, y)\u001b[0m\n\u001b[1;32m----> 1\u001b[1;33m \u001b[1;32mdef\u001b[0m \u001b[0mdivision\u001b[0m\u001b[1;33m(\u001b[0m\u001b[0mx\u001b[0m\u001b[1;33m,\u001b[0m \u001b[0my\u001b[0m\u001b[1;33m)\u001b[0m\u001b[1;33m:\u001b[0m \u001b[1;32mreturn\u001b[0m \u001b[0mx\u001b[0m\u001b[1;33m/\u001b[0m\u001b[0my\u001b[0m \u001b[1;32mif\u001b[0m \u001b[0my\u001b[0m \u001b[1;32melse\u001b[0m \u001b[1;36m0\u001b[0m\u001b[1;33m\u001b[0m\u001b[1;33m\u001b[0m\u001b[0m\n\u001b[0m",
      "\u001b[1;31mValueError\u001b[0m: The truth value of an array with more than one element is ambiguous. Use a.any() or a.all()"
     ]
    }
   ],
   "source": [
    "division(dataset.transpose()[1], dataset.transpose()[0])"
   ]
  },
  {
   "cell_type": "code",
   "execution_count": 108,
   "id": "bdb34a80",
   "metadata": {},
   "outputs": [],
   "source": [
    "def division(x, y): return x/y if y else 0"
   ]
  },
  {
   "cell_type": "code",
   "execution_count": 112,
   "id": "aa4623f7",
   "metadata": {},
   "outputs": [
    {
     "data": {
      "text/plain": [
       "0.5"
      ]
     },
     "execution_count": 112,
     "metadata": {},
     "output_type": "execute_result"
    }
   ],
   "source": [
    "division(1,2)"
   ]
  },
  {
   "cell_type": "code",
   "execution_count": 117,
   "id": "ca431458",
   "metadata": {},
   "outputs": [],
   "source": [
    "with np.errstate(divide='ignore',invalid='ignore'):\n",
    "    np.true_divide(dataset.transpose()[1], dataset.transpose()[0])"
   ]
  },
  {
   "cell_type": "code",
   "execution_count": null,
   "id": "fdc36236",
   "metadata": {},
   "outputs": [],
   "source": []
  }
 ],
 "metadata": {
  "kernelspec": {
   "display_name": "Python 3",
   "language": "python",
   "name": "python3"
  },
  "language_info": {
   "codemirror_mode": {
    "name": "ipython",
    "version": 3
   },
   "file_extension": ".py",
   "mimetype": "text/x-python",
   "name": "python",
   "nbconvert_exporter": "python",
   "pygments_lexer": "ipython3",
   "version": "3.7.10"
  }
 },
 "nbformat": 4,
 "nbformat_minor": 5
}
