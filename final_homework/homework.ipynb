{
 "cells": [
  {
   "cell_type": "markdown",
   "metadata": {
    "id": "YTeQhx2ljddR"
   },
   "source": [
    "## Homework\n",
    " - Backbone, localization header, classification header 를 설계해 아래 코드가 작동될 수 있도록 구현해주세요. <br> \n",
    " - 데이터의 크기가 변동되었음으로 해당 변동사항을 확인해주세요.\n",
    " - train ㅎ시 overfeat loss 가 최소 10 이하로 떨어져야 합니다. \n",
    " - 수업 코드에서 제공되었던 mnist_local_generator.py 와 utils.py 을 업로드 해 사용해야 합니다. \n",
    " "
   ]
  },
  {
   "cell_type": "code",
   "execution_count": 1,
   "metadata": {
    "id": "SjJhBK_uh0bV"
   },
   "outputs": [],
   "source": [
    "from tensorflow.keras.layers import Input, Conv2D, MaxPool2D, Dropout, Concatenate\n",
    "from tensorflow.keras.models import Model\n",
    "from tensorflow.keras.optimizers import SGD\n",
    "from tensorflow.keras.losses import CategoricalCrossentropy\n",
    "from tensorflow.keras.initializers import RandomNormal\n",
    "from tensorflow.keras.regularizers import l2\n",
    "from mnist_local_generator import mnist_localization_generator\n",
    "import matplotlib.pyplot as plt \n",
    "import numpy as np \n",
    "from utils import xywh2xyxy, draw_rectangle\n",
    "import cv2\n",
    "import tensorflow.keras.backend as K\n",
    "import tensorflow as tf \n",
    "from tensorflow.keras.losses import CategoricalCrossentropy, MSE"
   ]
  },
  {
   "cell_type": "code",
   "execution_count": 2,
   "metadata": {
    "id": "b38ifSRph3Jm"
   },
   "outputs": [
    {
     "name": "stdout",
     "output_type": "stream",
     "text": [
      "배경 class가 포함되어 class 는 11로 설정 되어 있습니다.\n"
     ]
    },
    {
     "name": "stderr",
     "output_type": "stream",
     "text": [
      "100%|██████████| 10000/10000 [00:00<00:00, 49743.70it/s]"
     ]
    },
    {
     "name": "stdout",
     "output_type": "stream",
     "text": [
      "train image 을 random 하게 resize 합니다.\n"
     ]
    },
    {
     "name": "stderr",
     "output_type": "stream",
     "text": [
      "\n",
      "100%|██████████| 10000/10000 [00:08<00:00, 1163.18it/s]\n",
      "100%|██████████| 10000/10000 [00:00<00:00, 54634.18it/s]"
     ]
    },
    {
     "name": "stdout",
     "output_type": "stream",
     "text": [
      "train image 을 random 하게 resize 합니다.\n"
     ]
    },
    {
     "name": "stderr",
     "output_type": "stream",
     "text": [
      "\n",
      "100%|██████████| 10000/10000 [00:07<00:00, 1390.04it/s]\n",
      " 14%|█▍        | 143/1000 [00:00<00:00, 1429.45it/s]"
     ]
    },
    {
     "name": "stdout",
     "output_type": "stream",
     "text": [
      "object 가 없는 background 이미지를 추가합니다.(전체 이미지의 10%)\n",
      "background 의 class 는 11로 설정 되어 있습니다.\n",
      "background 의 regression 는 (0,0,0,0)로 설정 되어 있습니다.\n"
     ]
    },
    {
     "name": "stderr",
     "output_type": "stream",
     "text": [
      "100%|██████████| 1000/1000 [00:00<00:00, 1496.86it/s]\n",
      "100%|██████████| 1000/1000 [00:00<00:00, 1526.54it/s]\n"
     ]
    },
    {
     "name": "stdout",
     "output_type": "stream",
     "text": [
      "(11000, 128, 128, 1) (11000, 128, 128, 1)\n"
     ]
    }
   ],
   "source": [
    "# load mnist dataset\n",
    "# Generate mnist data for localization\n",
    "(train_images, train_cls_true, train_reg_true), (test_images, test_cls_true, test_reg_true) = \\\n",
    "    mnist_localization_generator((128, 128), (128, 128),\n",
    "                                 background=True, \n",
    "                                 image_size_range=(60, 80),\n",
    "                                 image_ratio_range=(0.5, 1.5),\n",
    "                                 n_sample=10000)\n",
    "\n",
    "print(train_images.shape, test_images.shape)"
   ]
  },
  {
   "cell_type": "code",
   "execution_count": 3,
   "metadata": {},
   "outputs": [
    {
     "name": "stdout",
     "output_type": "stream",
     "text": [
      "train 정답길이 : (11000, 1, 1, 15)\n",
      "test 정답길이 : (11000, 1, 1, 15)\n"
     ]
    }
   ],
   "source": [
    "train_true = np.concatenate([train_reg_true, train_cls_true], axis=-1)\n",
    "test_true = np.concatenate([test_reg_true, test_cls_true], axis=-1)\n",
    "print(\"train 정답길이 : {}\".format(train_true.shape))\n",
    "print(\"test 정답길이 : {}\".format(test_true.shape))"
   ]
  },
  {
   "cell_type": "code",
   "execution_count": 4,
   "metadata": {},
   "outputs": [
    {
     "data": {
      "text/plain": [
       "((11000, 1, 1, 11), (11000, 1, 1, 4), (11000, 1, 1, 15))"
      ]
     },
     "execution_count": 4,
     "metadata": {},
     "output_type": "execute_result"
    }
   ],
   "source": [
    "train_reg_true = xywh2xyxy(train_reg_true)\n",
    "train_reg_cls = np.concatenate([train_reg_true, train_cls_true], axis=-1)\n",
    "train_cls_true.shape, train_reg_true.shape, train_reg_cls.shape"
   ]
  },
  {
   "cell_type": "markdown",
   "metadata": {
    "id": "cLEeOLwHh9mE"
   },
   "source": [
    "## Backbone \n",
    " - 아래 Cell Convolution 을 활용한 backbone 코드를 작성해 주세요"
   ]
  },
  {
   "cell_type": "code",
   "execution_count": 26,
   "metadata": {
    "id": "r5VK4UoSiAGZ"
   },
   "outputs": [
    {
     "name": "stdout",
     "output_type": "stream",
     "text": [
      "KerasTensor(type_spec=TensorSpec(shape=(None, 128, 128, 1), dtype=tf.float32, name='input_1'), name='input_1', description=\"created by layer 'input_1'\")\n",
      "(None, 32, 32, 12)\n",
      "(None, 16, 16, 12)\n",
      "(None, 14, 14, 32)\n",
      "(None, 7, 7, 32)\n",
      "(None, 7, 7, 64)\n",
      "(None, 7, 7, 128)\n",
      "(None, 7, 7, 128)\n",
      "(None, 3, 3, 128)\n"
     ]
    }
   ],
   "source": [
    "K.clear_session()\n",
    "# 아래 코드에 Convolution 을 활용한 backbone 코드를 작성해 주세요\n",
    "\n",
    "input_ = Input(shape=(128, 128, 1))\n",
    "print(input_)\n",
    "\n",
    "conv_1 = Conv2D(filters=12, kernel_size=(3, 3), strides=(4,4), padding='valid', activation='relu',\n",
    "                kernel_initializer=RandomNormal(0, 0.01), kernel_regularizer=l2(0.00001))(input_)\n",
    "print(conv_1.shape)\n",
    "maxp_1 = MaxPool2D(pool_size=(2,2), strides=(2,2))(conv_1)\n",
    "print(maxp_1.shape)\n",
    "\n",
    "conv_2 = Conv2D(filters=32, kernel_size=(3, 3), strides=(1,1), padding='valid', activation='relu',\n",
    "               kernel_initializer=RandomNormal(0,0.01), kernel_regularizer=l2(0.00001))(maxp_1)\n",
    "print(conv_2.shape)\n",
    "maxp_2 = MaxPool2D(pool_size=(2,2), strides=(2,2))(conv_2)\n",
    "print(maxp_2.shape)\n",
    "conv_3 = Conv2D(filters=64, kernel_size=(3, 3), strides=(1,1), padding='same', activation='relu',\n",
    "               kernel_initializer=RandomNormal(0,0.01), kernel_regularizer=l2(0.00001))(maxp_2)\n",
    "print(conv_3.shape)\n",
    "conv_4 = Conv2D(filters=128, kernel_size=(3, 3), strides=(1,1), padding='same', activation='relu',\n",
    "               kernel_initializer=RandomNormal(0,0.01), kernel_regularizer=l2(0.00001))(conv_3)\n",
    "print(conv_4.shape)\n",
    "conv_5 = Conv2D(filters=128, kernel_size=(3, 3), strides=(1,1), padding='same', activation='relu',\n",
    "               kernel_initializer=RandomNormal(0,0.01), kernel_regularizer=l2(0.00001))(conv_4)\n",
    "print(conv_5.shape)\n",
    "maxp_5 = MaxPool2D(pool_size=(2,2), strides=(2,2))(conv_5)\n",
    "print(maxp_5.shape)\n"
   ]
  },
  {
   "cell_type": "markdown",
   "metadata": {
    "id": "d2_7bRfyiJeV"
   },
   "source": [
    "## Localization header\n",
    " - 아래 Cell에 Convolution 을 활용한 localization 예측 코드를 작성해 주세요"
   ]
  },
  {
   "cell_type": "code",
   "execution_count": 27,
   "metadata": {
    "id": "gLNx4TP6iMqt"
   },
   "outputs": [
    {
     "name": "stdout",
     "output_type": "stream",
     "text": [
      "(None, 1, 1, 512)\n",
      "(None, 1, 1, 128)\n",
      "(None, 1, 1, 4)\n"
     ]
    }
   ],
   "source": [
    "# 아래 코드에 Convolution 을 활용한 localization header 파트 코드를 작성해 주세요\n",
    "conv_6 = Conv2D(filters=512, kernel_size=(3, 3), strides=(1,1), padding='valid', activation='relu',\n",
    "               kernel_initializer=RandomNormal(0,0.01), kernel_regularizer=l2(0.00001))(maxp_5)\n",
    "print(conv_6.shape)\n",
    "conv_7 = Conv2D(filters=128, kernel_size=(1, 1), strides=(1,1), padding='same', activation='relu',\n",
    "               kernel_initializer=RandomNormal(0,0.01), kernel_regularizer=l2(0.00001))(conv_6)\n",
    "print(conv_7.shape)\n",
    "loc_output = Conv2D(filters=4, kernel_size=(1, 1), strides=(1,1), padding='same', activation=None)(conv_7)\n",
    "print(loc_output.shape)"
   ]
  },
  {
   "cell_type": "markdown",
   "metadata": {
    "id": "M7VpDPGPiZrf"
   },
   "source": [
    "## Classification header\n",
    " - 아래 Cell에 Convolution 을 활용한 localization 예측 코드를 작성해 주세요"
   ]
  },
  {
   "cell_type": "code",
   "execution_count": 28,
   "metadata": {
    "id": "KLxD59zJidaw"
   },
   "outputs": [
    {
     "name": "stdout",
     "output_type": "stream",
     "text": [
      "(None, 1, 1, 512)\n",
      "(None, 1, 1, 128)\n",
      "(None, 1, 1, 11)\n"
     ]
    }
   ],
   "source": [
    "# 아래 코드에 Convolution 을 활용한 classification header 파트 코드를 작성해 주세요\n",
    "\n",
    "conv_6 = Conv2D(filters=512, kernel_size=(3, 3), strides=(1,1), padding='valid', activation='relu',\n",
    "               kernel_initializer=RandomNormal(0,0.01), kernel_regularizer=l2(0.00001))(maxp_5)\n",
    "print(conv_6.shape)\n",
    "conv_7 = Conv2D(filters=128, kernel_size=(1, 1), strides=(1,1), padding='same', activation='relu',\n",
    "               kernel_initializer=RandomNormal(0,0.01), kernel_regularizer=l2(0.00001))(conv_6)\n",
    "print(conv_7.shape)\n",
    "cls_output = Conv2D(filters=11, kernel_size=(1, 1), strides=(1,1), padding='same', activation='softmax')(conv_7)\n",
    "print(cls_output.shape)"
   ]
  },
  {
   "cell_type": "markdown",
   "metadata": {
    "id": "ATDXlyxgjm4U"
   },
   "source": [
    "## Concatenate header"
   ]
  },
  {
   "cell_type": "code",
   "execution_count": 29,
   "metadata": {
    "id": "PnBribIriicC"
   },
   "outputs": [
    {
     "data": {
      "text/plain": [
       "<KerasTensor: shape=(None, 1, 1, 15) dtype=float32 (created by layer 'concatenate')>"
      ]
     },
     "execution_count": 29,
     "metadata": {},
     "output_type": "execute_result"
    }
   ],
   "source": [
    "output = Concatenate(axis=-1)([loc_output, cls_output])\n",
    "output"
   ]
  },
  {
   "cell_type": "markdown",
   "metadata": {
    "id": "YhUqqb5bjp3O"
   },
   "source": [
    "## Define overfeat loss "
   ]
  },
  {
   "cell_type": "code",
   "execution_count": 9,
   "metadata": {
    "id": "5m4wsWOmsvkU"
   },
   "outputs": [],
   "source": [
    "def overfeat_mse(true, pred):\n",
    "    \"\"\"\n",
    "    :param true: ndarray, 4d tensor (NHWC) 단 C=4\n",
    "    :param pred: ndarray or tensor, 4d tensor (NHWC), 단 C=4\n",
    "    :return: mse_, float,\n",
    "    \"\"\"\n",
    "\n",
    "    # slicing classification and regression\n",
    "    mse = MSE(true, pred)\n",
    "    mse_ = tf.math.reduce_mean(mse)\n",
    "\n",
    "    return mse_"
   ]
  },
  {
   "cell_type": "code",
   "execution_count": 10,
   "metadata": {
    "id": "j_1o1uYVu7Cw"
   },
   "outputs": [],
   "source": [
    "def overfeat_cee(true, pred):\n",
    "    \"\"\"\n",
    "    :param true: ndarray, 4d tensor (NHWC) 단 C=11\n",
    "    :param pred: ndarray or tensor, 4d tensor (NHWC), 단 C=11\n",
    "    :return: cee_, float,\n",
    "    \"\"\"\n",
    "\n",
    "    cee = CategoricalCrossentropy()\n",
    "    cee_ = cee(true, pred)\n",
    "\n",
    "    return cee_ "
   ]
  },
  {
   "cell_type": "code",
   "execution_count": 11,
   "metadata": {
    "id": "vmwSeHbXr3bv"
   },
   "outputs": [],
   "source": [
    "def overfeat_loss(true, pred):\n",
    "    \"\"\"\n",
    "    Description:\n",
    "    :param true: ndarray, shape = (N, 1, 1, 15=(4+11))\n",
    "    :param pred: ndarray, shape = (N, 1, 1, 15=(4+11))\n",
    "    \"\"\"\n",
    "\n",
    "    true_reg = true[:, :, :, :4]\n",
    "    true_cls = true[:, :, :, 4:]\n",
    "\n",
    "    pred_reg = pred[:, :, :, :4]\n",
    "    pred_cls = pred[:, :, :, 4:]\n",
    "\n",
    "    # positive 인 data의 loss 만 localization loss 에 추가 \n",
    "    pos_mask = true_cls[:, :, :, -1] != 1   \n",
    "    pos_true_reg = true_reg[pos_mask]\n",
    "    pos_pred_reg = pred_reg[pos_mask]\n",
    "\n",
    "    mse_loss = overfeat_mse(pos_true_reg, pos_pred_reg)\n",
    "    cee_loss = overfeat_cee(true_cls, pred_cls)\n",
    "\n",
    "    total_loss = mse_loss*0.01 + cee_loss*2\n",
    "    return total_loss\n"
   ]
  },
  {
   "cell_type": "code",
   "execution_count": 12,
   "metadata": {
    "id": "eOvVylAfw_B_"
   },
   "outputs": [],
   "source": [
    "def metric_mse(true, pred):\n",
    "    \"\"\"\n",
    "    Description:\n",
    "    :param true: ndarray, shape = (N, 1, 1, 15=(4+11))\n",
    "    :param pred: ndarray, shape = (N, 1, 1, 15=(4+11))\n",
    "    \"\"\"\n",
    "\n",
    "    true_reg = true[:, :, :, :4]\n",
    "    true_cls = true[:, :, :, 4:]\n",
    "    pred_cls = pred[:, :, :, 4:]\n",
    "    pred_reg = pred[:, :, :, :4]\n",
    "\n",
    "    # positive 인 data의 loss 만 localization loss 에 추가 \n",
    "    pos_mask = true_cls[:, :, :, -1] != 1   \n",
    "    pos_true_reg = true_reg[pos_mask]\n",
    "    pos_pred_reg = pred_reg[pos_mask]\n",
    "\n",
    "    mse_loss = overfeat_mse(pos_true_reg, pos_pred_reg)\n",
    "    return mse_loss\n"
   ]
  },
  {
   "cell_type": "code",
   "execution_count": 13,
   "metadata": {
    "id": "i-XPioEpw-am"
   },
   "outputs": [],
   "source": [
    "def metric_cee(true, pred):\n",
    "    \"\"\"\n",
    "    Description:\n",
    "    :param true: ndarray, shape = (N, 1, 1, 15=(4+11))\n",
    "    :param pred: ndarray, shape = (N, 1, 1, 15=(4+11))\n",
    "    \"\"\"\n",
    "    true_cls = true[:, :, :, 4:]\n",
    "    pred_cls = pred[:, :, :, 4:]\n",
    "    cee_loss = overfeat_cee(true_cls, pred_cls)\n",
    "\n",
    "    return cee_loss\n"
   ]
  },
  {
   "cell_type": "markdown",
   "metadata": {
    "id": "BUAV8nw5it7m"
   },
   "source": [
    "## Compile model"
   ]
  },
  {
   "cell_type": "code",
   "execution_count": 30,
   "metadata": {
    "id": "zUuxjMdWrgM7"
   },
   "outputs": [
    {
     "name": "stdout",
     "output_type": "stream",
     "text": [
      "Model: \"model\"\n",
      "__________________________________________________________________________________________________\n",
      "Layer (type)                    Output Shape         Param #     Connected to                     \n",
      "==================================================================================================\n",
      "input_1 (InputLayer)            [(None, 128, 128, 1) 0                                            \n",
      "__________________________________________________________________________________________________\n",
      "conv2d (Conv2D)                 (None, 32, 32, 12)   120         input_1[0][0]                    \n",
      "__________________________________________________________________________________________________\n",
      "max_pooling2d (MaxPooling2D)    (None, 16, 16, 12)   0           conv2d[0][0]                     \n",
      "__________________________________________________________________________________________________\n",
      "conv2d_1 (Conv2D)               (None, 14, 14, 32)   3488        max_pooling2d[0][0]              \n",
      "__________________________________________________________________________________________________\n",
      "max_pooling2d_1 (MaxPooling2D)  (None, 7, 7, 32)     0           conv2d_1[0][0]                   \n",
      "__________________________________________________________________________________________________\n",
      "conv2d_2 (Conv2D)               (None, 7, 7, 64)     18496       max_pooling2d_1[0][0]            \n",
      "__________________________________________________________________________________________________\n",
      "conv2d_3 (Conv2D)               (None, 7, 7, 128)    73856       conv2d_2[0][0]                   \n",
      "__________________________________________________________________________________________________\n",
      "conv2d_4 (Conv2D)               (None, 7, 7, 128)    147584      conv2d_3[0][0]                   \n",
      "__________________________________________________________________________________________________\n",
      "max_pooling2d_2 (MaxPooling2D)  (None, 3, 3, 128)    0           conv2d_4[0][0]                   \n",
      "__________________________________________________________________________________________________\n",
      "conv2d_5 (Conv2D)               (None, 1, 1, 512)    590336      max_pooling2d_2[0][0]            \n",
      "__________________________________________________________________________________________________\n",
      "conv2d_8 (Conv2D)               (None, 1, 1, 512)    590336      max_pooling2d_2[0][0]            \n",
      "__________________________________________________________________________________________________\n",
      "conv2d_6 (Conv2D)               (None, 1, 1, 128)    65664       conv2d_5[0][0]                   \n",
      "__________________________________________________________________________________________________\n",
      "conv2d_9 (Conv2D)               (None, 1, 1, 128)    65664       conv2d_8[0][0]                   \n",
      "__________________________________________________________________________________________________\n",
      "conv2d_7 (Conv2D)               (None, 1, 1, 4)      516         conv2d_6[0][0]                   \n",
      "__________________________________________________________________________________________________\n",
      "conv2d_10 (Conv2D)              (None, 1, 1, 11)     1419        conv2d_9[0][0]                   \n",
      "__________________________________________________________________________________________________\n",
      "concatenate (Concatenate)       (None, 1, 1, 15)     0           conv2d_7[0][0]                   \n",
      "                                                                 conv2d_10[0][0]                  \n",
      "==================================================================================================\n",
      "Total params: 1,557,479\n",
      "Trainable params: 1,557,479\n",
      "Non-trainable params: 0\n",
      "__________________________________________________________________________________________________\n"
     ]
    }
   ],
   "source": [
    "# generate keras model\n",
    "model = Model(input_, output)\n",
    "model.compile(optimizer='adam', loss=overfeat_loss, metrics=[metric_mse, metric_cee])\n",
    "model.summary()"
   ]
  },
  {
   "cell_type": "markdown",
   "metadata": {
    "id": "9RD7E9b4jIPF"
   },
   "source": [
    "## Train model"
   ]
  },
  {
   "cell_type": "code",
   "execution_count": 31,
   "metadata": {
    "id": "tTeAbUy5ziVK"
   },
   "outputs": [
    {
     "name": "stdout",
     "output_type": "stream",
     "text": [
      "predict shape : (1, 1, 1, 15)\n"
     ]
    },
    {
     "data": {
      "text/plain": [
       "<tf.Tensor: shape=(), dtype=float32, numpy=51.754124>"
      ]
     },
     "execution_count": 31,
     "metadata": {},
     "output_type": "execute_result"
    }
   ],
   "source": [
    "sample_ys_hat = model.predict(train_images[0:1])\n",
    "print(\"predict shape : {}\".format(sample_ys_hat.shape))\n",
    "sample_ys = train_true[0:1]\n",
    "overfeat_loss(sample_ys, sample_ys_hat)"
   ]
  },
  {
   "cell_type": "code",
   "execution_count": 34,
   "metadata": {},
   "outputs": [
    {
     "name": "stdout",
     "output_type": "stream",
     "text": [
      "(None, 1, 1, 15) (11000, 1, 1, 11)\n",
      "Epoch 1/100\n",
      "344/344 [==============================] - 12s 34ms/step - loss: 3.9341 - metric_mse: 51.4119 - metric_cee: 1.7089\n",
      "Epoch 2/100\n",
      "344/344 [==============================] - 12s 34ms/step - loss: 3.5927 - metric_mse: 41.2411 - metric_cee: 1.5888\n",
      "Epoch 3/100\n",
      "344/344 [==============================] - 12s 36ms/step - loss: 3.2151 - metric_mse: 33.1215 - metric_cee: 1.4406\n",
      "Epoch 4/100\n",
      "344/344 [==============================] - 13s 37ms/step - loss: 2.9984 - metric_mse: 37.5490 - metric_cee: 1.3100\n",
      "Epoch 5/100\n",
      "344/344 [==============================] - 13s 37ms/step - loss: 2.5115 - metric_mse: 32.8635 - metric_cee: 1.0902\n",
      "Epoch 6/100\n",
      "344/344 [==============================] - 13s 37ms/step - loss: 2.0385 - metric_mse: 28.3448 - metric_cee: 0.8760\n",
      "Epoch 7/100\n",
      "344/344 [==============================] - 13s 37ms/step - loss: 1.7662 - metric_mse: 27.3355 - metric_cee: 0.7445\n",
      "Epoch 8/100\n",
      "344/344 [==============================] - 13s 37ms/step - loss: 1.4611 - metric_mse: 23.3274 - metric_cee: 0.6118\n",
      "Epoch 9/100\n",
      "344/344 [==============================] - 13s 36ms/step - loss: 1.2761 - metric_mse: 20.4474 - metric_cee: 0.5336\n",
      "Epoch 10/100\n",
      "344/344 [==============================] - 13s 37ms/step - loss: 1.1502 - metric_mse: 18.4033 - metric_cee: 0.4808\n",
      "Epoch 11/100\n",
      "344/344 [==============================] - 13s 37ms/step - loss: 0.9808 - metric_mse: 17.5831 - metric_cee: 0.3999\n",
      "Epoch 12/100\n",
      "344/344 [==============================] - 13s 37ms/step - loss: 0.8977 - metric_mse: 16.6475 - metric_cee: 0.3628\n",
      "Epoch 13/100\n",
      "344/344 [==============================] - 13s 37ms/step - loss: 0.7809 - metric_mse: 14.0854 - metric_cee: 0.3170\n",
      "Epoch 14/100\n",
      "344/344 [==============================] - 13s 37ms/step - loss: 0.7190 - metric_mse: 13.5654 - metric_cee: 0.2887\n",
      "Epoch 15/100\n",
      "344/344 [==============================] - 13s 37ms/step - loss: 0.6817 - metric_mse: 12.9777 - metric_cee: 0.2726\n",
      "Epoch 16/100\n",
      "344/344 [==============================] - 13s 37ms/step - loss: 0.5732 - metric_mse: 11.8680 - metric_cee: 0.2239\n",
      "Epoch 17/100\n",
      "344/344 [==============================] - 13s 37ms/step - loss: 0.5173 - metric_mse: 11.4652 - metric_cee: 0.1976\n",
      "Epoch 18/100\n",
      "344/344 [==============================] - 13s 37ms/step - loss: 0.5296 - metric_mse: 11.8420 - metric_cee: 0.2017\n",
      "Epoch 19/100\n",
      "344/344 [==============================] - 13s 37ms/step - loss: 0.4654 - metric_mse: 10.5807 - metric_cee: 0.1755\n",
      "Epoch 20/100\n",
      "344/344 [==============================] - 13s 38ms/step - loss: 0.4168 - metric_mse: 10.6065 - metric_cee: 0.1511\n",
      "Epoch 21/100\n",
      "344/344 [==============================] - 13s 38ms/step - loss: 0.4020 - metric_mse: 10.1831 - metric_cee: 0.1453\n",
      "Epoch 22/100\n",
      "344/344 [==============================] - 13s 37ms/step - loss: 0.3557 - metric_mse: 9.6272 - metric_cee: 0.1247\n",
      "Epoch 23/100\n",
      "344/344 [==============================] - 13s 37ms/step - loss: 0.3844 - metric_mse: 9.4525 - metric_cee: 0.1397\n",
      "Epoch 24/100\n",
      "344/344 [==============================] - 13s 37ms/step - loss: 0.3267 - metric_mse: 10.0175 - metric_cee: 0.1077\n",
      "Epoch 25/100\n",
      "344/344 [==============================] - 13s 37ms/step - loss: 0.3121 - metric_mse: 9.2727 - metric_cee: 0.1039\n",
      "Epoch 26/100\n",
      "344/344 [==============================] - 13s 37ms/step - loss: 0.3252 - metric_mse: 9.2260 - metric_cee: 0.1105\n",
      "Epoch 27/100\n",
      "344/344 [==============================] - 13s 37ms/step - loss: 0.2952 - metric_mse: 10.0220 - metric_cee: 0.0913\n",
      "Epoch 28/100\n",
      "344/344 [==============================] - 13s 37ms/step - loss: 0.2769 - metric_mse: 8.9421 - metric_cee: 0.0873\n",
      "Epoch 29/100\n",
      "344/344 [==============================] - 13s 37ms/step - loss: 0.2765 - metric_mse: 9.4138 - metric_cee: 0.0845\n",
      "Epoch 30/100\n",
      "344/344 [==============================] - 13s 37ms/step - loss: 0.1995 - metric_mse: 7.9860 - metric_cee: 0.0529\n",
      "Epoch 31/100\n",
      "344/344 [==============================] - 13s 37ms/step - loss: 0.3144 - metric_mse: 9.3803 - metric_cee: 0.1030\n",
      "Epoch 32/100\n",
      "344/344 [==============================] - 13s 37ms/step - loss: 0.1991 - metric_mse: 7.7428 - metric_cee: 0.0534\n",
      "Epoch 33/100\n",
      "344/344 [==============================] - 13s 37ms/step - loss: 0.2495 - metric_mse: 8.4254 - metric_cee: 0.0749\n",
      "Epoch 34/100\n",
      "344/344 [==============================] - 13s 37ms/step - loss: 0.2055 - metric_mse: 8.2531 - metric_cee: 0.0535\n",
      "Epoch 35/100\n",
      "344/344 [==============================] - 13s 37ms/step - loss: 0.2147 - metric_mse: 7.8673 - metric_cee: 0.0599\n",
      "Epoch 36/100\n",
      "344/344 [==============================] - 13s 37ms/step - loss: 0.2087 - metric_mse: 7.6522 - metric_cee: 0.0577\n",
      "Epoch 37/100\n",
      "344/344 [==============================] - 13s 37ms/step - loss: 0.1915 - metric_mse: 7.3989 - metric_cee: 0.0503\n",
      "Epoch 38/100\n",
      "344/344 [==============================] - 13s 36ms/step - loss: 0.2171 - metric_mse: 8.3923 - metric_cee: 0.0577\n",
      "Epoch 39/100\n",
      "344/344 [==============================] - 13s 37ms/step - loss: 0.2359 - metric_mse: 8.4449 - metric_cee: 0.0666\n",
      "Epoch 40/100\n",
      "344/344 [==============================] - 13s 37ms/step - loss: 0.1708 - metric_mse: 7.2543 - metric_cee: 0.0398\n",
      "Epoch 41/100\n",
      "344/344 [==============================] - 13s 37ms/step - loss: 0.2168 - metric_mse: 7.7094 - metric_cee: 0.0603\n",
      "Epoch 42/100\n",
      "344/344 [==============================] - 13s 37ms/step - loss: 0.1853 - metric_mse: 7.8696 - metric_cee: 0.0435\n",
      "Epoch 43/100\n",
      "344/344 [==============================] - 13s 37ms/step - loss: 0.1666 - metric_mse: 6.9515 - metric_cee: 0.0386\n",
      "Epoch 44/100\n",
      "344/344 [==============================] - 13s 37ms/step - loss: 0.1935 - metric_mse: 7.6989 - metric_cee: 0.0481\n",
      "Epoch 45/100\n",
      "344/344 [==============================] - 13s 37ms/step - loss: 0.1618 - metric_mse: 7.1456 - metric_cee: 0.0348\n",
      "Epoch 46/100\n",
      "344/344 [==============================] - 13s 37ms/step - loss: 0.2057 - metric_mse: 7.7684 - metric_cee: 0.0534\n",
      "Epoch 47/100\n",
      "344/344 [==============================] - 13s 37ms/step - loss: 0.1787 - metric_mse: 6.9143 - metric_cee: 0.0438\n",
      "Epoch 48/100\n",
      "344/344 [==============================] - 13s 37ms/step - loss: 0.1699 - metric_mse: 7.2524 - metric_cee: 0.0376\n",
      "Epoch 49/100\n",
      "344/344 [==============================] - 13s 37ms/step - loss: 0.1691 - metric_mse: 6.7497 - metric_cee: 0.0395\n",
      "Epoch 50/100\n",
      "344/344 [==============================] - 13s 37ms/step - loss: 0.1089 - metric_mse: 5.8008 - metric_cee: 0.0140\n",
      "Epoch 51/100\n",
      "344/344 [==============================] - 13s 37ms/step - loss: 0.1590 - metric_mse: 6.2280 - metric_cee: 0.0368\n",
      "Epoch 52/100\n",
      "344/344 [==============================] - 13s 37ms/step - loss: 0.2014 - metric_mse: 7.2810 - metric_cee: 0.0525\n",
      "Epoch 53/100\n",
      "344/344 [==============================] - 13s 37ms/step - loss: 0.1680 - metric_mse: 7.1801 - metric_cee: 0.0360\n",
      "Epoch 54/100\n",
      "344/344 [==============================] - 13s 37ms/step - loss: 0.1800 - metric_mse: 7.2629 - metric_cee: 0.0415\n",
      "Epoch 55/100\n",
      "344/344 [==============================] - 13s 37ms/step - loss: 0.1400 - metric_mse: 6.6494 - metric_cee: 0.0245\n",
      "Epoch 56/100\n",
      "344/344 [==============================] - 13s 37ms/step - loss: 0.1814 - metric_mse: 7.6046 - metric_cee: 0.0400\n",
      "Epoch 57/100\n",
      "344/344 [==============================] - 13s 37ms/step - loss: 0.1310 - metric_mse: 5.9613 - metric_cee: 0.0229\n",
      "Epoch 58/100\n",
      "344/344 [==============================] - 13s 37ms/step - loss: 0.1227 - metric_mse: 6.0464 - metric_cee: 0.0182\n",
      "Epoch 59/100\n",
      "344/344 [==============================] - 13s 37ms/step - loss: 0.2060 - metric_mse: 6.8318 - metric_cee: 0.0558\n",
      "Epoch 60/100\n",
      "344/344 [==============================] - 13s 37ms/step - loss: 0.1363 - metric_mse: 6.5804 - metric_cee: 0.0218\n",
      "Epoch 61/100\n",
      "344/344 [==============================] - 13s 37ms/step - loss: 0.1538 - metric_mse: 6.3296 - metric_cee: 0.0317\n",
      "Epoch 62/100\n",
      "344/344 [==============================] - 13s 37ms/step - loss: 0.1615 - metric_mse: 6.0941 - metric_cee: 0.0365\n",
      "Epoch 63/100\n",
      "344/344 [==============================] - 13s 37ms/step - loss: 0.1309 - metric_mse: 5.7612 - metric_cee: 0.0228\n",
      "Epoch 64/100\n",
      "344/344 [==============================] - 13s 37ms/step - loss: 0.1560 - metric_mse: 6.2946 - metric_cee: 0.0325\n",
      "Epoch 65/100\n"
     ]
    },
    {
     "name": "stdout",
     "output_type": "stream",
     "text": [
      "344/344 [==============================] - 12s 36ms/step - loss: 0.0934 - metric_mse: 5.2256 - metric_cee: 0.0065\n",
      "Epoch 66/100\n",
      "344/344 [==============================] - 12s 36ms/step - loss: 0.1909 - metric_mse: 7.1204 - metric_cee: 0.0457\n",
      "Epoch 67/100\n",
      "344/344 [==============================] - 13s 37ms/step - loss: 0.1804 - metric_mse: 7.4188 - metric_cee: 0.0384\n",
      "Epoch 68/100\n",
      "344/344 [==============================] - 13s 37ms/step - loss: 0.1183 - metric_mse: 5.5980 - metric_cee: 0.0165\n",
      "Epoch 69/100\n",
      "344/344 [==============================] - 12s 36ms/step - loss: 0.1507 - metric_mse: 6.0720 - metric_cee: 0.0302\n",
      "Epoch 70/100\n",
      "344/344 [==============================] - 12s 36ms/step - loss: 0.1533 - metric_mse: 6.0775 - metric_cee: 0.0312\n",
      "Epoch 71/100\n",
      "344/344 [==============================] - 12s 36ms/step - loss: 0.0851 - metric_mse: 4.6696 - metric_cee: 0.0041\n",
      "Epoch 72/100\n",
      "344/344 [==============================] - 12s 36ms/step - loss: 0.0885 - metric_mse: 4.7123 - metric_cee: 0.0056\n",
      "Epoch 73/100\n",
      "344/344 [==============================] - 13s 36ms/step - loss: 0.0637 - metric_mse: 3.3505 - metric_cee: 1.8392e-04\n",
      "Epoch 74/100\n",
      "344/344 [==============================] - 12s 36ms/step - loss: 0.0572 - metric_mse: 2.7630 - metric_cee: 3.2908e-05\n",
      "Epoch 75/100\n",
      "344/344 [==============================] - 12s 36ms/step - loss: 0.0545 - metric_mse: 2.5241 - metric_cee: 2.7217e-05\n",
      "Epoch 76/100\n",
      "344/344 [==============================] - 13s 38ms/step - loss: 0.0515 - metric_mse: 2.2600 - metric_cee: 2.4315e-05\n",
      "Epoch 77/100\n",
      "344/344 [==============================] - 13s 37ms/step - loss: 0.0486 - metric_mse: 2.0153 - metric_cee: 2.0121e-05\n",
      "Epoch 78/100\n",
      "344/344 [==============================] - 13s 37ms/step - loss: 0.0501 - metric_mse: 2.2057 - metric_cee: 2.3172e-05\n",
      "Epoch 79/100\n",
      "344/344 [==============================] - 13s 37ms/step - loss: 0.0470 - metric_mse: 1.9441 - metric_cee: 2.3565e-05\n",
      "Epoch 80/100\n",
      "344/344 [==============================] - 12s 36ms/step - loss: 0.0459 - metric_mse: 1.8924 - metric_cee: 3.0501e-05\n",
      "Epoch 81/100\n",
      "344/344 [==============================] - 12s 36ms/step - loss: 0.0459 - metric_mse: 1.9358 - metric_cee: 3.3586e-05\n",
      "Epoch 82/100\n",
      "344/344 [==============================] - 13s 37ms/step - loss: 0.0428 - metric_mse: 1.6893 - metric_cee: 2.6982e-05\n",
      "Epoch 83/100\n",
      "344/344 [==============================] - 13s 37ms/step - loss: 0.0426 - metric_mse: 1.7369 - metric_cee: 3.3401e-05\n",
      "Epoch 84/100\n",
      "344/344 [==============================] - 13s 37ms/step - loss: 0.3401 - metric_mse: 6.7959 - metric_cee: 0.1236\n",
      "Epoch 85/100\n",
      "344/344 [==============================] - 13s 39ms/step - loss: 0.3277 - metric_mse: 9.7272 - metric_cee: 0.1010\n",
      "Epoch 86/100\n",
      "344/344 [==============================] - 13s 37ms/step - loss: 0.1532 - metric_mse: 6.1881 - metric_cee: 0.0312\n",
      "Epoch 87/100\n",
      "344/344 [==============================] - 13s 37ms/step - loss: 0.1600 - metric_mse: 6.4057 - metric_cee: 0.0334\n",
      "Epoch 88/100\n",
      "344/344 [==============================] - 14s 41ms/step - loss: 0.1092 - metric_mse: 4.7678 - metric_cee: 0.0161\n",
      "Epoch 89/100\n",
      "344/344 [==============================] - 13s 39ms/step - loss: 0.1634 - metric_mse: 6.1926 - metric_cee: 0.0359\n",
      "Epoch 90/100\n",
      "344/344 [==============================] - 14s 39ms/step - loss: 0.1409 - metric_mse: 5.8063 - metric_cee: 0.0264\n",
      "Epoch 91/100\n",
      "344/344 [==============================] - 13s 36ms/step - loss: 0.1371 - metric_mse: 5.3623 - metric_cee: 0.0265\n",
      "Epoch 92/100\n",
      "344/344 [==============================] - 12s 36ms/step - loss: 0.1238 - metric_mse: 5.1395 - metric_cee: 0.0209\n",
      "Epoch 93/100\n",
      "344/344 [==============================] - 12s 36ms/step - loss: 0.1494 - metric_mse: 6.4985 - metric_cee: 0.0267\n",
      "Epoch 94/100\n",
      "344/344 [==============================] - 12s 36ms/step - loss: 0.1799 - metric_mse: 6.1614 - metric_cee: 0.0435\n",
      "Epoch 95/100\n",
      "344/344 [==============================] - 12s 36ms/step - loss: 0.1121 - metric_mse: 5.1795 - metric_cee: 0.0143\n",
      "Epoch 96/100\n",
      "344/344 [==============================] - 12s 35ms/step - loss: 0.0677 - metric_mse: 3.4926 - metric_cee: 5.9086e-04\n",
      "Epoch 97/100\n",
      "344/344 [==============================] - 12s 36ms/step - loss: 0.0585 - metric_mse: 2.6867 - metric_cee: 1.6645e-04\n",
      "Epoch 98/100\n",
      "344/344 [==============================] - 12s 36ms/step - loss: 0.0555 - metric_mse: 2.4317 - metric_cee: 1.2113e-04\n",
      "Epoch 99/100\n",
      "344/344 [==============================] - 13s 36ms/step - loss: 0.0529 - metric_mse: 2.2143 - metric_cee: 9.5592e-05\n",
      "Epoch 100/100\n",
      "344/344 [==============================] - 13s 36ms/step - loss: 0.0528 - metric_mse: 2.2410 - metric_cee: 9.2297e-05\n"
     ]
    },
    {
     "data": {
      "text/plain": [
       "<tensorflow.python.keras.callbacks.History at 0x2af780fdbc8>"
      ]
     },
     "execution_count": 34,
     "metadata": {},
     "output_type": "execute_result"
    }
   ],
   "source": [
    "print(output.shape, train_cls_true.shape)\n",
    "model.fit(train_images, train_reg_cls, batch_size=32, epochs=100)"
   ]
  },
  {
   "cell_type": "markdown",
   "metadata": {
    "id": "Ln6EYgd6jPpj"
   },
   "source": [
    "## Predict Model"
   ]
  },
  {
   "cell_type": "code",
   "execution_count": 35,
   "metadata": {
    "id": "UkQFdUJm205o"
   },
   "outputs": [],
   "source": [
    "pred_loc_cls = model.predict(test_images[:10])"
   ]
  },
  {
   "cell_type": "markdown",
   "metadata": {
    "id": "1Ina2i0KjXH6"
   },
   "source": [
    "## Visualization"
   ]
  },
  {
   "cell_type": "code",
   "execution_count": 36,
   "metadata": {
    "id": "GDIlRyZT7Lro"
   },
   "outputs": [],
   "source": [
    "pred_loc = pred_loc_cls[:, ..., :4]\n",
    "pred_cls = pred_loc_cls[:, ..., 4:]"
   ]
  },
  {
   "cell_type": "code",
   "execution_count": 37,
   "metadata": {
    "id": "GYQ_wJBr7N-4"
   },
   "outputs": [],
   "source": [
    "pred_loc = np.squeeze(pred_loc)\n",
    "pred_cls = np.argmax(pred_cls, axis=-1)\n",
    "pred_cls = np.squeeze(pred_cls)"
   ]
  },
  {
   "cell_type": "code",
   "execution_count": 38,
   "metadata": {
    "id": "WG-NiADe7ZdK"
   },
   "outputs": [],
   "source": [
    "pred_loc = xywh2xyxy(pred_loc)"
   ]
  },
  {
   "cell_type": "code",
   "execution_count": 39,
   "metadata": {
    "id": "gi6j9tlF7ajH"
   },
   "outputs": [
    {
     "data": {
      "text/plain": [
       "Text(0.5, 1.0, '1')"
      ]
     },
     "execution_count": 39,
     "metadata": {},
     "output_type": "execute_result"
    },
    {
     "data": {
      "image/png": "[encoded data removed]",
      "text/plain": [
       "<Figure size 432x288 with 1 Axes>"
      ]
     },
     "metadata": {
      "needs_background": "light"
     },
     "output_type": "display_data"
    }
   ],
   "source": [
    "index = 5\n",
    "rected_image = draw_rectangle(test_images[index, ..., 0], pred_loc[index])\n",
    "plt.imshow(rected_image)\n",
    "plt.title(pred_cls[index])"
   ]
  },
  {
   "cell_type": "code",
   "execution_count": 40,
   "metadata": {
    "id": "G3lJjCeE7dSB"
   },
   "outputs": [],
   "source": [
    "model.save('./best_model.h5')"
   ]
  },
  {
   "cell_type": "code",
   "execution_count": null,
   "metadata": {},
   "outputs": [],
   "source": []
  }
 ],
 "metadata": {
  "colab": {
   "collapsed_sections": [],
   "name": "homework.ipynb",
   "private_outputs": true,
   "provenance": []
  },
  "kernelspec": {
   "display_name": "Python 3",
   "language": "python",
   "name": "python3"
  },
  "language_info": {
   "codemirror_mode": {
    "name": "ipython",
    "version": 3
   },
   "file_extension": ".py",
   "mimetype": "text/x-python",
   "name": "python",
   "nbconvert_exporter": "python",
   "pygments_lexer": "ipython3",
   "version": "3.7.10"
  }
 },
 "nbformat": 4,
 "nbformat_minor": 1
}
