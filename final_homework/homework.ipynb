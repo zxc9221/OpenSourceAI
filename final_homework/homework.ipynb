{
 "cells": [
  {
   "cell_type": "markdown",
   "metadata": {
    "id": "YTeQhx2ljddR"
   },
   "source": [
    "## Homework\n",
    " - Backbone, localization header, classification header 를 설계해 아래 코드가 작동될 수 있도록 구현해주세요. <br> \n",
    " - 데이터의 크기가 변동되었음으로 해당 변동사항을 확인해주세요.\n",
    " - train ㅎ시 overfeat loss 가 최소 10 이하로 떨어져야 합니다. \n",
    " - 수업 코드에서 제공되었던 mnist_local_generator.py 와 utils.py 을 업로드 해 사용해야 합니다. \n",
    " "
   ]
  },
  {
   "cell_type": "code",
   "execution_count": 1,
   "metadata": {
    "id": "SjJhBK_uh0bV"
   },
   "outputs": [],
   "source": [
    "from tensorflow.keras.layers import Input, Conv2D, MaxPool2D, Dropout, Concatenate\n",
    "from tensorflow.keras.models import Model\n",
    "from tensorflow.keras.optimizers import SGD\n",
    "from tensorflow.keras.losses import CategoricalCrossentropy\n",
    "from tensorflow.keras.initializers import RandomNormal\n",
    "from tensorflow.keras.regularizers import l2\n",
    "from mnist_local_generator import mnist_localization_generator\n",
    "import matplotlib.pyplot as plt \n",
    "import numpy as np \n",
    "from utils import xywh2xyxy, draw_rectangle\n",
    "import cv2\n",
    "import tensorflow.keras.backend as K\n",
    "import tensorflow as tf \n",
    "from tensorflow.keras.losses import CategoricalCrossentropy, MSE"
   ]
  },
  {
   "cell_type": "code",
   "execution_count": 2,
   "metadata": {
    "id": "b38ifSRph3Jm"
   },
   "outputs": [
    {
     "name": "stdout",
     "output_type": "stream",
     "text": [
      "배경 class가 포함되어 class 는 11로 설정 되어 있습니다.\n"
     ]
    },
    {
     "name": "stderr",
     "output_type": "stream",
     "text": [
      " 32%|███▏      | 3174/10000 [00:00<00:00, 31425.50it/s]"
     ]
    },
    {
     "name": "stdout",
     "output_type": "stream",
     "text": [
      "train image 을 random 하게 resize 합니다.\n"
     ]
    },
    {
     "name": "stderr",
     "output_type": "stream",
     "text": [
      "100%|██████████| 10000/10000 [00:00<00:00, 21186.45it/s]\n",
      "100%|██████████| 10000/10000 [00:26<00:00, 381.39it/s]\n",
      " 10%|▉         | 985/10000 [00:00<00:00, 9752.91it/s]"
     ]
    },
    {
     "name": "stdout",
     "output_type": "stream",
     "text": [
      "train image 을 random 하게 resize 합니다.\n"
     ]
    },
    {
     "name": "stderr",
     "output_type": "stream",
     "text": [
      "100%|██████████| 10000/10000 [00:00<00:00, 11848.35it/s]\n",
      "100%|██████████| 10000/10000 [00:31<00:00, 317.17it/s]\n"
     ]
    },
    {
     "name": "stdout",
     "output_type": "stream",
     "text": [
      "object 가 없는 background 이미지를 추가합니다.(전체 이미지의 10%)\n",
      "background 의 class 는 11로 설정 되어 있습니다.\n",
      "background 의 regression 는 (0,0,0,0)로 설정 되어 있습니다.\n"
     ]
    },
    {
     "name": "stderr",
     "output_type": "stream",
     "text": [
      "100%|██████████| 1000/1000 [00:03<00:00, 331.46it/s]\n",
      "100%|██████████| 1000/1000 [00:02<00:00, 471.25it/s]\n"
     ]
    },
    {
     "name": "stdout",
     "output_type": "stream",
     "text": [
      "(11000, 128, 128, 1) (11000, 128, 128, 1)\n"
     ]
    }
   ],
   "source": [
    "# load mnist dataset\n",
    "# Generate mnist data for localization\n",
    "(train_images, train_cls_true, train_reg_true), (test_images, test_cls_true, test_reg_true) = \\\n",
    "    mnist_localization_generator((128, 128), (128, 128),\n",
    "                                 background=True, \n",
    "                                 image_size_range=(60, 80),\n",
    "                                 image_ratio_range=(0.5, 1.5),\n",
    "                                 n_sample=10000)\n",
    "\n",
    "print(train_images.shape, test_images.shape)"
   ]
  },
  {
   "cell_type": "code",
   "execution_count": 3,
   "metadata": {},
   "outputs": [
    {
     "name": "stdout",
     "output_type": "stream",
     "text": [
      "train 정답길이 : (11000, 1, 1, 15)\n",
      "test 정답길이 : (11000, 1, 1, 15)\n"
     ]
    }
   ],
   "source": [
    "train_true = np.concatenate([train_reg_true, train_cls_true], axis=-1)\n",
    "test_true = np.concatenate([test_reg_true, test_cls_true], axis=-1)\n",
    "print(\"train 정답길이 : {}\".format(train_true.shape))\n",
    "print(\"test 정답길이 : {}\".format(test_true.shape))"
   ]
  },
  {
   "cell_type": "code",
   "execution_count": 4,
   "metadata": {},
   "outputs": [
    {
     "data": {
      "text/plain": [
       "((11000, 1, 1, 11), (11000, 1, 1, 4), (11000, 1, 1, 15))"
      ]
     },
     "execution_count": 4,
     "metadata": {},
     "output_type": "execute_result"
    }
   ],
   "source": [
    "train_reg_true = xywh2xyxy(train_reg_true)\n",
    "train_reg_cls = np.concatenate([train_reg_true, train_cls_true], axis=-1)\n",
    "train_cls_true.shape, train_reg_true.shape, train_reg_cls.shape\n",
    "#train_reg_cls = train_reg_cls.reshape((11000,1))"
   ]
  },
  {
   "cell_type": "code",
   "execution_count": 5,
   "metadata": {},
   "outputs": [
    {
     "data": {
      "text/plain": [
       "<matplotlib.image.AxesImage at 0x20acf3ff688>"
      ]
     },
     "execution_count": 5,
     "metadata": {},
     "output_type": "execute_result"
    },
    {
     "data": {
      "image/png": "[encoded data removed]",
      "text/plain": [
       "<Figure size 432x288 with 1 Axes>"
      ]
     },
     "metadata": {
      "needs_background": "light"
     },
     "output_type": "display_data"
    }
   ],
   "source": [
    "\n",
    "\n",
    "index = 3\n",
    "sample_img = train_images[index]\n",
    "sample_img = sample_img.astype('uint8')\n",
    "sample_img = cv2.cvtColor(sample_img, cv2.COLOR_GRAY2RGB)\n",
    "plt.imshow(sample_img)\n",
    "sample_coordinate = np.squeeze(train_reg_true[index])\n",
    "rected_sample_img = draw_rectangle(sample_img, sample_coordinate, (255,255,255))\n",
    "plt.imshow(rected_sample_img)"
   ]
  },
  {
   "cell_type": "markdown",
   "metadata": {
    "id": "cLEeOLwHh9mE"
   },
   "source": [
    "## Backbone \n",
    " - 아래 Cell Convolution 을 활용한 backbone 코드를 작성해 주세요"
   ]
  },
  {
   "cell_type": "code",
   "execution_count": 23,
   "metadata": {
    "id": "r5VK4UoSiAGZ"
   },
   "outputs": [
    {
     "name": "stdout",
     "output_type": "stream",
     "text": [
      "KerasTensor(type_spec=TensorSpec(shape=(None, 128, 128, 1), dtype=tf.float32, name='input_1'), name='input_1', description=\"created by layer 'input_1'\")\n",
      "(None, 30, 30, 12)\n",
      "(None, 15, 15, 12)\n",
      "(None, 11, 11, 32)\n",
      "(None, 5, 5, 32)\n",
      "(None, 5, 5, 64)\n",
      "(None, 5, 5, 128)\n",
      "(None, 5, 5, 128)\n",
      "(None, 2, 2, 128)\n"
     ]
    }
   ],
   "source": [
    "K.clear_session()\n",
    "# 아래 코드에 Convolution 을 활용한 backbone 코드를 작성해 주세요\n",
    "\n",
    "input_ = Input(shape=(128, 128, 1))\n",
    "print(input_)\n",
    "\n",
    "conv_1 = Conv2D(filters=12, kernel_size=(11, 11), strides=(4,4), padding='valid', activation='relu',\n",
    "                kernel_initializer=RandomNormal(0, 0.01), kernel_regularizer=l2(0.00001))(input_)\n",
    "print(conv_1.shape)\n",
    "maxp_1 = MaxPool2D(pool_size=(2,2), strides=(2,2))(conv_1)\n",
    "print(maxp_1.shape)\n",
    "\n",
    "conv_2 = Conv2D(filters=32, kernel_size=(5, 5), strides=(1,1), padding='valid', activation='relu',\n",
    "               kernel_initializer=RandomNormal(0,0.01), kernel_regularizer=l2(0.00001))(maxp_1)\n",
    "print(conv_2.shape)\n",
    "maxp_2 = MaxPool2D(pool_size=(2,2), strides=(2,2))(conv_2)\n",
    "print(maxp_2.shape)\n",
    "conv_3 = Conv2D(filters=64, kernel_size=(3, 3), strides=(1,1), padding='same', activation='relu',\n",
    "               kernel_initializer=RandomNormal(0,0.01), kernel_regularizer=l2(0.00001))(maxp_2)\n",
    "print(conv_3.shape)\n",
    "conv_4 = Conv2D(filters=128, kernel_size=(3, 3), strides=(1,1), padding='same', activation='relu',\n",
    "               kernel_initializer=RandomNormal(0,0.01), kernel_regularizer=l2(0.00001))(conv_3)\n",
    "print(conv_4.shape)\n",
    "conv_5 = Conv2D(filters=128, kernel_size=(3, 3), strides=(1,1), padding='same', activation='relu',\n",
    "               kernel_initializer=RandomNormal(0,0.01), kernel_regularizer=l2(0.00001))(conv_4)\n",
    "print(conv_5.shape)\n",
    "maxp_5 = MaxPool2D(pool_size=(2,2), strides=(2,2))(conv_5)\n",
    "print(maxp_5.shape)\n"
   ]
  },
  {
   "cell_type": "markdown",
   "metadata": {
    "id": "d2_7bRfyiJeV"
   },
   "source": [
    "## Localization header\n",
    " - 아래 Cell에 Convolution 을 활용한 localization 예측 코드를 작성해 주세요"
   ]
  },
  {
   "cell_type": "code",
   "execution_count": 25,
   "metadata": {
    "id": "gLNx4TP6iMqt"
   },
   "outputs": [
    {
     "name": "stdout",
     "output_type": "stream",
     "text": [
      "(None, 1, 1, 512)\n",
      "(None, 1, 1, 128)\n",
      "(None, 1, 1, 4)\n"
     ]
    }
   ],
   "source": [
    "# 아래 코드에 Convolution 을 활용한 localization header 파트 코드를 작성해 주세요\n",
    "conv_6 = Conv2D(filters=512, kernel_size=(2, 2), strides=(1,1), padding='valid', activation='relu',\n",
    "               kernel_initializer=RandomNormal(0,0.01), kernel_regularizer=l2(0.00001))(maxp_5)\n",
    "print(conv_6.shape)\n",
    "conv_7 = Conv2D(filters=128, kernel_size=(1, 1), strides=(1,1), padding='same', activation='relu',\n",
    "               kernel_initializer=RandomNormal(0,0.01), kernel_regularizer=l2(0.00001))(conv_6)\n",
    "print(conv_7.shape)\n",
    "loc_output = Conv2D(filters=4, kernel_size=(1, 1), strides=(1,1), padding='same', activation=None)(conv_7)\n",
    "print(loc_output.shape)"
   ]
  },
  {
   "cell_type": "markdown",
   "metadata": {
    "id": "M7VpDPGPiZrf"
   },
   "source": [
    "## Classification header\n",
    " - 아래 Cell에 Convolution 을 활용한 localization 예측 코드를 작성해 주세요"
   ]
  },
  {
   "cell_type": "code",
   "execution_count": 26,
   "metadata": {
    "id": "KLxD59zJidaw"
   },
   "outputs": [],
   "source": [
    "# 아래 코드에 Convolution 을 활용한 classification header 파트 코드를 작성해 주세요\n",
    "\n",
    "\n",
    "#\n",
    "conv_6 = Conv2D(filters=512, kernel_size=(2, 2), strides=(1,1), padding='valid', activation='relu',\n",
    "               kernel_initializer=RandomNormal(0,0.01), kernel_regularizer=l2(0.00001))(maxp_5)\n",
    "conv_7 = Conv2D(filters=128, kernel_size=(1, 1), strides=(1,1), padding='same', activation='relu',\n",
    "               kernel_initializer=RandomNormal(0,0.01), kernel_regularizer=l2(0.00001))(conv_6)\n",
    "cls_output = Conv2D(filters=11, kernel_size=(1, 1), strides=(1,1), padding='same', activation='softmax')(conv_7)\n"
   ]
  },
  {
   "cell_type": "markdown",
   "metadata": {
    "id": "ATDXlyxgjm4U"
   },
   "source": [
    "## Concatenate header"
   ]
  },
  {
   "cell_type": "code",
   "execution_count": 27,
   "metadata": {
    "id": "PnBribIriicC"
   },
   "outputs": [
    {
     "data": {
      "text/plain": [
       "<KerasTensor: shape=(None, 1, 1, 15) dtype=float32 (created by layer 'concatenate')>"
      ]
     },
     "execution_count": 27,
     "metadata": {},
     "output_type": "execute_result"
    }
   ],
   "source": [
    "output = Concatenate(axis=-1)([loc_output, cls_output])\n",
    "output"
   ]
  },
  {
   "cell_type": "markdown",
   "metadata": {
    "id": "YhUqqb5bjp3O"
   },
   "source": [
    "## Define overfeat loss "
   ]
  },
  {
   "cell_type": "code",
   "execution_count": 28,
   "metadata": {
    "id": "5m4wsWOmsvkU"
   },
   "outputs": [],
   "source": [
    "def overfeat_mse(true, pred):\n",
    "    \"\"\"\n",
    "    :param true: ndarray, 4d tensor (NHWC) 단 C=4\n",
    "    :param pred: ndarray or tensor, 4d tensor (NHWC), 단 C=4\n",
    "    :return: mse_, float,\n",
    "    \"\"\"\n",
    "\n",
    "    # slicing classification and regression\n",
    "    mse = MSE(true, pred)\n",
    "    mse_ = tf.math.reduce_mean(mse)\n",
    "\n",
    "    return mse_"
   ]
  },
  {
   "cell_type": "code",
   "execution_count": 29,
   "metadata": {
    "id": "j_1o1uYVu7Cw"
   },
   "outputs": [],
   "source": [
    "def overfeat_cee(true, pred):\n",
    "    \"\"\"\n",
    "    :param true: ndarray, 4d tensor (NHWC) 단 C=11\n",
    "    :param pred: ndarray or tensor, 4d tensor (NHWC), 단 C=11\n",
    "    :return: cee_, float,\n",
    "    \"\"\"\n",
    "\n",
    "    cee = CategoricalCrossentropy()\n",
    "    cee_ = cee(true, pred)\n",
    "\n",
    "    return cee_ "
   ]
  },
  {
   "cell_type": "code",
   "execution_count": 30,
   "metadata": {
    "id": "vmwSeHbXr3bv"
   },
   "outputs": [],
   "source": [
    "def overfeat_loss(true, pred):\n",
    "    \"\"\"\n",
    "    Description:\n",
    "    :param true: ndarray, shape = (N, 1, 1, 15=(4+11))\n",
    "    :param pred: ndarray, shape = (N, 1, 1, 15=(4+11))\n",
    "    \"\"\"\n",
    "\n",
    "    true_reg = true[:, :, :, :4]\n",
    "    true_cls = true[:, :, :, 4:]\n",
    "\n",
    "    pred_reg = pred[:, :, :, :4]\n",
    "    pred_cls = pred[:, :, :, 4:]\n",
    "\n",
    "    # positive 인 data의 loss 만 localization loss 에 추가 \n",
    "    pos_mask = true_cls[:, :, :, -1] != 1   \n",
    "    pos_true_reg = true_reg[pos_mask]\n",
    "    pos_pred_reg = pred_reg[pos_mask]\n",
    "\n",
    "    mse_loss = overfeat_mse(pos_true_reg, pos_pred_reg)\n",
    "    cee_loss = overfeat_cee(true_cls, pred_cls)\n",
    "\n",
    "    total_loss = mse_loss*0.01 + cee_loss*2\n",
    "    return total_loss\n"
   ]
  },
  {
   "cell_type": "code",
   "execution_count": 31,
   "metadata": {
    "id": "eOvVylAfw_B_"
   },
   "outputs": [],
   "source": [
    "def metric_mse(true, pred):\n",
    "    \"\"\"\n",
    "    Description:\n",
    "    :param true: ndarray, shape = (N, 1, 1, 15=(4+11))\n",
    "    :param pred: ndarray, shape = (N, 1, 1, 15=(4+11))\n",
    "    \"\"\"\n",
    "\n",
    "    true_reg = true[:, :, :, :4]\n",
    "    true_cls = true[:, :, :, 4:]\n",
    "    pred_cls = pred[:, :, :, 4:]\n",
    "    pred_reg = pred[:, :, :, :4]\n",
    "\n",
    "    # positive 인 data의 loss 만 localization loss 에 추가 \n",
    "    pos_mask = true_cls[:, :, :, -1] != 1   \n",
    "    pos_true_reg = true_reg[pos_mask]\n",
    "    pos_pred_reg = pred_reg[pos_mask]\n",
    "\n",
    "    mse_loss = overfeat_mse(pos_true_reg, pos_pred_reg)\n",
    "    return mse_loss\n"
   ]
  },
  {
   "cell_type": "code",
   "execution_count": 32,
   "metadata": {
    "id": "i-XPioEpw-am"
   },
   "outputs": [],
   "source": [
    "def metric_cee(true, pred):\n",
    "    \"\"\"\n",
    "    Description:\n",
    "    :param true: ndarray, shape = (N, 1, 1, 15=(4+11))\n",
    "    :param pred: ndarray, shape = (N, 1, 1, 15=(4+11))\n",
    "    \"\"\"\n",
    "    true_cls = true[:, :, :, 4:]\n",
    "    pred_cls = pred[:, :, :, 4:]\n",
    "    cee_loss = overfeat_cee(true_cls, pred_cls)\n",
    "\n",
    "    return cee_loss\n"
   ]
  },
  {
   "cell_type": "markdown",
   "metadata": {
    "id": "BUAV8nw5it7m"
   },
   "source": [
    "## Compile model"
   ]
  },
  {
   "cell_type": "code",
   "execution_count": 33,
   "metadata": {
    "id": "zUuxjMdWrgM7"
   },
   "outputs": [
    {
     "name": "stdout",
     "output_type": "stream",
     "text": [
      "Model: \"model\"\n",
      "__________________________________________________________________________________________________\n",
      "Layer (type)                    Output Shape         Param #     Connected to                     \n",
      "==================================================================================================\n",
      "input_1 (InputLayer)            [(None, 128, 128, 1) 0                                            \n",
      "__________________________________________________________________________________________________\n",
      "conv2d (Conv2D)                 (None, 30, 30, 12)   1464        input_1[0][0]                    \n",
      "__________________________________________________________________________________________________\n",
      "max_pooling2d (MaxPooling2D)    (None, 15, 15, 12)   0           conv2d[0][0]                     \n",
      "__________________________________________________________________________________________________\n",
      "conv2d_1 (Conv2D)               (None, 11, 11, 32)   9632        max_pooling2d[0][0]              \n",
      "__________________________________________________________________________________________________\n",
      "max_pooling2d_1 (MaxPooling2D)  (None, 5, 5, 32)     0           conv2d_1[0][0]                   \n",
      "__________________________________________________________________________________________________\n",
      "conv2d_2 (Conv2D)               (None, 5, 5, 64)     18496       max_pooling2d_1[0][0]            \n",
      "__________________________________________________________________________________________________\n",
      "conv2d_3 (Conv2D)               (None, 5, 5, 128)    73856       conv2d_2[0][0]                   \n",
      "__________________________________________________________________________________________________\n",
      "conv2d_4 (Conv2D)               (None, 5, 5, 128)    147584      conv2d_3[0][0]                   \n",
      "__________________________________________________________________________________________________\n",
      "max_pooling2d_2 (MaxPooling2D)  (None, 2, 2, 128)    0           conv2d_4[0][0]                   \n",
      "__________________________________________________________________________________________________\n",
      "conv2d_6 (Conv2D)               (None, 1, 1, 512)    262656      max_pooling2d_2[0][0]            \n",
      "__________________________________________________________________________________________________\n",
      "conv2d_9 (Conv2D)               (None, 1, 1, 512)    262656      max_pooling2d_2[0][0]            \n",
      "__________________________________________________________________________________________________\n",
      "conv2d_7 (Conv2D)               (None, 1, 1, 128)    65664       conv2d_6[0][0]                   \n",
      "__________________________________________________________________________________________________\n",
      "conv2d_10 (Conv2D)              (None, 1, 1, 128)    65664       conv2d_9[0][0]                   \n",
      "__________________________________________________________________________________________________\n",
      "conv2d_8 (Conv2D)               (None, 1, 1, 4)      516         conv2d_7[0][0]                   \n",
      "__________________________________________________________________________________________________\n",
      "conv2d_11 (Conv2D)              (None, 1, 1, 11)     1419        conv2d_10[0][0]                  \n",
      "__________________________________________________________________________________________________\n",
      "concatenate (Concatenate)       (None, 1, 1, 15)     0           conv2d_8[0][0]                   \n",
      "                                                                 conv2d_11[0][0]                  \n",
      "==================================================================================================\n",
      "Total params: 909,607\n",
      "Trainable params: 909,607\n",
      "Non-trainable params: 0\n",
      "__________________________________________________________________________________________________\n"
     ]
    }
   ],
   "source": [
    "# generate keras model\n",
    "model = Model(input_, output)\n",
    "model.compile(optimizer='adam', loss=overfeat_loss, metrics=[metric_mse, metric_cee])\n",
    "model.summary()"
   ]
  },
  {
   "cell_type": "markdown",
   "metadata": {
    "id": "9RD7E9b4jIPF"
   },
   "source": [
    "## Train model"
   ]
  },
  {
   "cell_type": "code",
   "execution_count": null,
   "metadata": {
    "id": "tTeAbUy5ziVK"
   },
   "outputs": [],
   "source": [
    "sample_ys_hat = model.predict(train_images[0:1])\n",
    "print(\"predict shape : {}\".format(sample_ys_hat.shape))\n",
    "sample_ys = train_true[0:1]\n",
    "overfeat_loss(sample_ys, sample_ys_hat)"
   ]
  },
  {
   "cell_type": "code",
   "execution_count": 34,
   "metadata": {},
   "outputs": [
    {
     "name": "stdout",
     "output_type": "stream",
     "text": [
      "(None, 1, 1, 15) (11000, 1, 1, 11)\n",
      "Epoch 1/100\n",
      "344/344 [==============================] - 13s 32ms/step - loss: 9.0404 - metric_mse: 435.9986 - metric_cee: 2.3385\n",
      "Epoch 2/100\n",
      "344/344 [==============================] - 11s 32ms/step - loss: 5.1649 - metric_mse: 87.7722 - metric_cee: 2.1435\n",
      "Epoch 3/100\n",
      "344/344 [==============================] - 11s 32ms/step - loss: 4.3258 - metric_mse: 56.8677 - metric_cee: 1.8777\n",
      "Epoch 4/100\n",
      "344/344 [==============================] - 11s 32ms/step - loss: 3.8240 - metric_mse: 49.6658 - metric_cee: 1.66281s - loss: 3\n",
      "Epoch 5/100\n",
      "344/344 [==============================] - 11s 31ms/step - loss: 3.4523 - metric_mse: 47.0142 - metric_cee: 1.4903\n",
      "Epoch 6/100\n",
      "344/344 [==============================] - 11s 32ms/step - loss: 3.1292 - metric_mse: 44.0444 - metric_cee: 1.3438\n",
      "Epoch 7/100\n",
      "344/344 [==============================] - 13s 37ms/step - loss: 2.7424 - metric_mse: 39.7959 - metric_cee: 1.1715\n",
      "Epoch 8/100\n",
      "344/344 [==============================] - 13s 37ms/step - loss: 2.3894 - metric_mse: 35.8826 - metric_cee: 1.0143\n",
      "Epoch 9/100\n",
      "344/344 [==============================] - 12s 35ms/step - loss: 2.2278 - metric_mse: 39.3714 - metric_cee: 0.9157\n",
      "Epoch 10/100\n",
      "344/344 [==============================] - 11s 33ms/step - loss: 1.8866 - metric_mse: 34.2129 - metric_cee: 0.7711\n",
      "Epoch 11/100\n",
      "344/344 [==============================] - 14s 42ms/step - loss: 1.5838 - metric_mse: 35.0409 - metric_cee: 0.6153\n",
      "Epoch 12/100\n",
      "344/344 [==============================] - 13s 37ms/step - loss: 1.2519 - metric_mse: 31.2909 - metric_cee: 0.4681\n",
      "Epoch 13/100\n",
      "344/344 [==============================] - 13s 38ms/step - loss: 1.0729 - metric_mse: 32.1018 - metric_cee: 0.3742\n",
      "Epoch 14/100\n",
      "344/344 [==============================] - 12s 36ms/step - loss: 0.9892 - metric_mse: 29.6084 - metric_cee: 0.3449\n",
      "Epoch 15/100\n",
      "344/344 [==============================] - 12s 35ms/step - loss: 0.9168 - metric_mse: 29.8420 - metric_cee: 0.3077\n",
      "Epoch 16/100\n",
      "344/344 [==============================] - 13s 39ms/step - loss: 0.7695 - metric_mse: 26.0550 - metric_cee: 0.2525\n",
      "Epoch 17/100\n",
      "344/344 [==============================] - 13s 38ms/step - loss: 0.7248 - metric_mse: 26.7423 - metric_cee: 0.2267\n",
      "Epoch 18/100\n",
      "344/344 [==============================] - 13s 38ms/step - loss: 0.6438 - metric_mse: 23.5530 - metric_cee: 0.2017\n",
      "Epoch 19/100\n",
      "344/344 [==============================] - 12s 36ms/step - loss: 0.6225 - metric_mse: 22.9840 - metric_cee: 0.1938\n",
      "Epoch 20/100\n",
      "344/344 [==============================] - 12s 34ms/step - loss: 0.5683 - metric_mse: 23.1192 - metric_cee: 0.1663\n",
      "Epoch 21/100\n",
      "344/344 [==============================] - 13s 38ms/step - loss: 0.5535 - metric_mse: 22.2403 - metric_cee: 0.1627\n",
      "Epoch 22/100\n",
      "344/344 [==============================] - 13s 38ms/step - loss: 0.5003 - metric_mse: 21.5843 - metric_cee: 0.1391\n",
      "Epoch 23/100\n",
      "344/344 [==============================] - 13s 38ms/step - loss: 0.4833 - metric_mse: 21.6288 - metric_cee: 0.1303\n",
      "Epoch 24/100\n",
      "344/344 [==============================] - 12s 35ms/step - loss: 0.4351 - metric_mse: 19.8771 - metric_cee: 0.1147\n",
      "Epoch 25/100\n",
      "344/344 [==============================] - 13s 37ms/step - loss: 0.4654 - metric_mse: 21.4251 - metric_cee: 0.1220\n",
      "Epoch 26/100\n",
      "344/344 [==============================] - 13s 38ms/step - loss: 0.4383 - metric_mse: 19.2981 - metric_cee: 0.1189\n",
      "Epoch 27/100\n",
      "344/344 [==============================] - 13s 37ms/step - loss: 0.3612 - metric_mse: 18.1784 - metric_cee: 0.0857\n",
      "Epoch 28/100\n",
      "344/344 [==============================] - 13s 39ms/step - loss: 0.4419 - metric_mse: 18.3672 - metric_cee: 0.1249\n",
      "Epoch 29/100\n",
      "344/344 [==============================] - 12s 36ms/step - loss: 0.3604 - metric_mse: 19.2186 - metric_cee: 0.0797\n",
      "Epoch 30/100\n",
      "344/344 [==============================] - 14s 42ms/step - loss: 0.3797 - metric_mse: 18.2253 - metric_cee: 0.0942\n",
      "Epoch 31/100\n",
      "344/344 [==============================] - 13s 38ms/step - loss: 0.3659 - metric_mse: 18.5810 - metric_cee: 0.0853\n",
      "Epoch 32/100\n",
      "344/344 [==============================] - 13s 38ms/step - loss: 0.4806 - metric_mse: 23.9078 - metric_cee: 0.1157\n",
      "Epoch 33/100\n",
      "344/344 [==============================] - 13s 38ms/step - loss: 0.3203 - metric_mse: 18.4238 - metric_cee: 0.0627\n",
      "Epoch 34/100\n",
      "344/344 [==============================] - 13s 37ms/step - loss: 0.3233 - metric_mse: 15.7282 - metric_cee: 0.0781\n",
      "Epoch 35/100\n",
      "344/344 [==============================] - 14s 42ms/step - loss: 0.3806 - metric_mse: 19.7512 - metric_cee: 0.0860\n",
      "Epoch 36/100\n",
      "344/344 [==============================] - 12s 35ms/step - loss: 0.3040 - metric_mse: 17.6448 - metric_cee: 0.0580\n",
      "Epoch 37/100\n",
      "344/344 [==============================] - 13s 37ms/step - loss: 0.3132 - metric_mse: 16.2737 - metric_cee: 0.0695\n",
      "Epoch 38/100\n",
      "344/344 [==============================] - 13s 39ms/step - loss: 0.2999 - metric_mse: 16.9309 - metric_cee: 0.0592\n",
      "Epoch 39/100\n",
      "344/344 [==============================] - 13s 39ms/step - loss: 0.3123 - metric_mse: 15.9934 - metric_cee: 0.0699\n",
      "Epoch 40/100\n",
      "344/344 [==============================] - 14s 41ms/step - loss: 0.3748 - metric_mse: 18.8851 - metric_cee: 0.0865\n",
      "Epoch 41/100\n",
      "344/344 [==============================] - 12s 36ms/step - loss: 0.3439 - metric_mse: 18.2030 - metric_cee: 0.0742\n",
      "Epoch 42/100\n",
      "344/344 [==============================] - 12s 36ms/step - loss: 0.2334 - metric_mse: 14.1655 - metric_cee: 0.0391\n",
      "Epoch 43/100\n",
      "344/344 [==============================] - 13s 39ms/step - loss: 0.2595 - metric_mse: 14.8022 - metric_cee: 0.0488\n",
      "Epoch 44/100\n",
      "344/344 [==============================] - 14s 41ms/step - loss: 0.3199 - metric_mse: 17.0632 - metric_cee: 0.0674\n",
      "Epoch 45/100\n",
      "344/344 [==============================] - 13s 37ms/step - loss: 0.2439 - metric_mse: 14.2116 - metric_cee: 0.0437\n",
      "Epoch 46/100\n",
      "344/344 [==============================] - 12s 35ms/step - loss: 0.3550 - metric_mse: 19.0293 - metric_cee: 0.0748\n",
      "Epoch 47/100\n",
      "344/344 [==============================] - 13s 37ms/step - loss: 0.2520 - metric_mse: 15.7490 - metric_cee: 0.0396\n",
      "Epoch 48/100\n",
      "344/344 [==============================] - 13s 37ms/step - loss: 0.2594 - metric_mse: 14.2047 - metric_cee: 0.0509\n",
      "Epoch 49/100\n",
      "344/344 [==============================] - 13s 37ms/step - loss: 0.3714 - metric_mse: 19.0459 - metric_cee: 0.0825\n",
      "Epoch 50/100\n",
      "344/344 [==============================] - 12s 36ms/step - loss: 0.3000 - metric_mse: 16.3677 - metric_cee: 0.0600\n",
      "Epoch 51/100\n",
      "344/344 [==============================] - 12s 35ms/step - loss: 0.3463 - metric_mse: 18.1481 - metric_cee: 0.0739\n",
      "Epoch 52/100\n",
      "344/344 [==============================] - 13s 37ms/step - loss: 0.2397 - metric_mse: 13.9687 - metric_cee: 0.0414\n",
      "Epoch 53/100\n",
      "344/344 [==============================] - 13s 38ms/step - loss: 0.2725 - metric_mse: 15.9640 - metric_cee: 0.0478\n",
      "Epoch 54/100\n",
      "344/344 [==============================] - 14s 41ms/step - loss: 0.2764 - metric_mse: 16.1073 - metric_cee: 0.0488\n",
      "Epoch 55/100\n",
      "344/344 [==============================] - 13s 37ms/step - loss: 0.2806 - metric_mse: 14.9122 - metric_cee: 0.0570\n",
      "Epoch 56/100\n",
      "344/344 [==============================] - 13s 37ms/step - loss: 0.2394 - metric_mse: 14.6813 - metric_cee: 0.0372\n",
      "Epoch 57/100\n",
      "344/344 [==============================] - 13s 39ms/step - loss: 0.2174 - metric_mse: 13.1920 - metric_cee: 0.0339\n",
      "Epoch 58/100\n",
      "344/344 [==============================] - 15s 43ms/step - loss: 0.2963 - metric_mse: 15.4552 - metric_cee: 0.0616\n",
      "Epoch 59/100\n",
      "344/344 [==============================] - 15s 43ms/step - loss: 0.2031 - metric_mse: 12.8489 - metric_cee: 0.0280\n",
      "Epoch 60/100\n",
      "344/344 [==============================] - 13s 38ms/step - loss: 0.3118 - metric_mse: 16.1581 - metric_cee: 0.0656\n",
      "Epoch 61/100\n",
      "344/344 [==============================] - ETA: 0s - loss: 0.2594 - metric_mse: 14.9114 - metric_cee: 0.04 - 14s 42ms/step - loss: 0.2590 - metric_mse: 14.8926 - metric_cee: 0.0454\n",
      "Epoch 62/100\n",
      "344/344 [==============================] - 14s 40ms/step - loss: 0.3264 - metric_mse: 15.7110 - metric_cee: 0.0749\n",
      "Epoch 63/100\n"
     ]
    },
    {
     "name": "stdout",
     "output_type": "stream",
     "text": [
      "344/344 [==============================] - 15s 43ms/step - loss: 0.2936 - metric_mse: 15.9282 - metric_cee: 0.0572\n",
      "Epoch 64/100\n",
      "344/344 [==============================] - 12s 36ms/step - loss: 0.2338 - metric_mse: 13.7555 - metric_cee: 0.0380\n",
      "Epoch 65/100\n",
      "344/344 [==============================] - 13s 39ms/step - loss: 0.2402 - metric_mse: 13.8494 - metric_cee: 0.0407\n",
      "Epoch 66/100\n",
      "344/344 [==============================] - 13s 38ms/step - loss: 0.3010 - metric_mse: 16.2586 - metric_cee: 0.0588\n",
      "Epoch 67/100\n",
      "344/344 [==============================] - 15s 43ms/step - loss: 0.2638 - metric_mse: 14.8228 - metric_cee: 0.0474\n",
      "Epoch 68/100\n",
      "344/344 [==============================] - 12s 35ms/step - loss: 0.2909 - metric_mse: 14.8976 - metric_cee: 0.0603\n",
      "Epoch 69/100\n",
      "344/344 [==============================] - 11s 33ms/step - loss: 0.2372 - metric_mse: 13.1441 - metric_cee: 0.0422\n",
      "Epoch 70/100\n",
      "344/344 [==============================] - 11s 33ms/step - loss: 0.2011 - metric_mse: 12.4231 - metric_cee: 0.0276\n",
      "Epoch 71/100\n",
      "344/344 [==============================] - 11s 33ms/step - loss: 0.1654 - metric_mse: 10.9013 - metric_cee: 0.0174\n",
      "Epoch 72/100\n",
      "344/344 [==============================] - 12s 35ms/step - loss: 0.3515 - metric_mse: 16.0811 - metric_cee: 0.0843\n",
      "Epoch 73/100\n",
      "344/344 [==============================] - 13s 38ms/step - loss: 0.2221 - metric_mse: 13.1498 - metric_cee: 0.0341\n",
      "Epoch 74/100\n",
      "344/344 [==============================] - 12s 35ms/step - loss: 0.2158 - metric_mse: 11.5995 - metric_cee: 0.0388\n",
      "Epoch 75/100\n",
      "344/344 [==============================] - 12s 34ms/step - loss: 0.2144 - metric_mse: 13.0646 - metric_cee: 0.0306\n",
      "Epoch 76/100\n",
      "344/344 [==============================] - 12s 36ms/step - loss: 0.2481 - metric_mse: 13.5895 - metric_cee: 0.0446\n",
      "Epoch 77/100\n",
      "344/344 [==============================] - 13s 39ms/step - loss: 0.2114 - metric_mse: 12.6368 - metric_cee: 0.0310\n",
      "Epoch 78/100\n",
      "344/344 [==============================] - 13s 38ms/step - loss: 0.1960 - metric_mse: 11.3512 - metric_cee: 0.0297\n",
      "Epoch 79/100\n",
      "344/344 [==============================] - 12s 35ms/step - loss: 0.2533 - metric_mse: 13.2222 - metric_cee: 0.0489\n",
      "Epoch 80/100\n",
      "344/344 [==============================] - 12s 35ms/step - loss: 0.2234 - metric_mse: 12.4698 - metric_cee: 0.0376\n",
      "Epoch 81/100\n",
      "344/344 [==============================] - 14s 41ms/step - loss: 0.2674 - metric_mse: 13.7367 - metric_cee: 0.0532\n",
      "Epoch 82/100\n",
      "344/344 [==============================] - 13s 38ms/step - loss: 0.2822 - metric_mse: 14.4041 - metric_cee: 0.0570\n",
      "Epoch 83/100\n",
      "344/344 [==============================] - 12s 35ms/step - loss: 0.2929 - metric_mse: 15.5734 - metric_cee: 0.0565\n",
      "Epoch 84/100\n",
      "344/344 [==============================] - 12s 35ms/step - loss: 0.2352 - metric_mse: 13.1542 - metric_cee: 0.0395\n",
      "Epoch 85/100\n",
      "344/344 [==============================] - 13s 37ms/step - loss: 0.1422 - metric_mse: 9.7900 - metric_cee: 0.0097\n",
      "Epoch 86/100\n",
      "344/344 [==============================] - 13s 37ms/step - loss: 0.1242 - metric_mse: 8.8936 - metric_cee: 0.0053\n",
      "Epoch 87/100\n",
      "344/344 [==============================] - 13s 37ms/step - loss: 0.1192 - metric_mse: 8.1922 - metric_cee: 0.0064\n",
      "Epoch 88/100\n",
      "344/344 [==============================] - 12s 36ms/step - loss: 0.3930 - metric_mse: 17.1195 - metric_cee: 0.0986\n",
      "Epoch 89/100\n",
      "344/344 [==============================] - 12s 36ms/step - loss: 0.2690 - metric_mse: 14.6249 - metric_cee: 0.0488\n",
      "Epoch 90/100\n",
      "344/344 [==============================] - 13s 37ms/step - loss: 0.2456 - metric_mse: 13.0662 - metric_cee: 0.0447\n",
      "Epoch 91/100\n",
      "344/344 [==============================] - 13s 37ms/step - loss: 0.2207 - metric_mse: 12.5799 - metric_cee: 0.0345\n",
      "Epoch 92/100\n",
      "344/344 [==============================] - 13s 37ms/step - loss: 0.1906 - metric_mse: 11.7340 - metric_cee: 0.0237\n",
      "Epoch 93/100\n",
      "344/344 [==============================] - 13s 36ms/step - loss: 0.2615 - metric_mse: 12.8289 - metric_cee: 0.0535\n",
      "Epoch 94/100\n",
      "344/344 [==============================] - 12s 35ms/step - loss: 0.3063 - metric_mse: 15.4671 - metric_cee: 0.0626\n",
      "Epoch 95/100\n",
      "344/344 [==============================] - 12s 35ms/step - loss: 0.2112 - metric_mse: 12.6501 - metric_cee: 0.0289\n",
      "Epoch 96/100\n",
      "344/344 [==============================] - 12s 35ms/step - loss: 0.1529 - metric_mse: 9.6811 - metric_cee: 0.0147\n",
      "Epoch 97/100\n",
      "344/344 [==============================] - 12s 35ms/step - loss: 0.2148 - metric_mse: 12.2996 - metric_cee: 0.0325\n",
      "Epoch 98/100\n",
      "344/344 [==============================] - 12s 35ms/step - loss: 0.2383 - metric_mse: 12.9165 - metric_cee: 0.0410\n",
      "Epoch 99/100\n",
      "344/344 [==============================] - 12s 35ms/step - loss: 0.1906 - metric_mse: 11.1265 - metric_cee: 0.0261\n",
      "Epoch 100/100\n",
      "344/344 [==============================] - 12s 35ms/step - loss: 0.2389 - metric_mse: 12.5089 - metric_cee: 0.04330s - loss: 0.2394 - metric_mse: 12.4696 - metric\n"
     ]
    },
    {
     "data": {
      "text/plain": [
       "<tensorflow.python.keras.callbacks.History at 0x20aff857bc8>"
      ]
     },
     "execution_count": 34,
     "metadata": {},
     "output_type": "execute_result"
    }
   ],
   "source": [
    "print(output.shape, train_cls_true.shape)\n",
    "model.fit(train_images, train_reg_cls, batch_size=32, epochs=100)"
   ]
  },
  {
   "cell_type": "markdown",
   "metadata": {
    "id": "Ln6EYgd6jPpj"
   },
   "source": [
    "## Predict Model"
   ]
  },
  {
   "cell_type": "code",
   "execution_count": 35,
   "metadata": {
    "id": "UkQFdUJm205o"
   },
   "outputs": [],
   "source": [
    "pred_loc_cls = model.predict(test_images[:10])"
   ]
  },
  {
   "cell_type": "markdown",
   "metadata": {
    "id": "1Ina2i0KjXH6"
   },
   "source": [
    "## Visualization"
   ]
  },
  {
   "cell_type": "code",
   "execution_count": 36,
   "metadata": {
    "id": "GDIlRyZT7Lro"
   },
   "outputs": [],
   "source": [
    "pred_loc = pred_loc_cls[:, ..., :4]\n",
    "pred_cls = pred_loc_cls[:, ..., 4:]"
   ]
  },
  {
   "cell_type": "code",
   "execution_count": 37,
   "metadata": {
    "id": "GYQ_wJBr7N-4"
   },
   "outputs": [],
   "source": [
    "pred_loc = np.squeeze(pred_loc)\n",
    "pred_cls = np.argmax(pred_cls, axis=-1)\n",
    "pred_cls = np.squeeze(pred_cls)"
   ]
  },
  {
   "cell_type": "code",
   "execution_count": 38,
   "metadata": {
    "id": "WG-NiADe7ZdK"
   },
   "outputs": [],
   "source": [
    "pred_loc = xywh2xyxy(pred_loc)"
   ]
  },
  {
   "cell_type": "code",
   "execution_count": 39,
   "metadata": {
    "id": "gi6j9tlF7ajH"
   },
   "outputs": [
    {
     "data": {
      "text/plain": [
       "Text(0.5, 1.0, '1')"
      ]
     },
     "execution_count": 39,
     "metadata": {},
     "output_type": "execute_result"
    },
    {
     "data": {
      "image/png": "[encoded data removed]",
      "text/plain": [
       "<Figure size 432x288 with 1 Axes>"
      ]
     },
     "metadata": {
      "needs_background": "light"
     },
     "output_type": "display_data"
    }
   ],
   "source": [
    "index = 5\n",
    "rected_image = draw_rectangle(test_images[index, ..., 0], pred_loc[index])\n",
    "plt.imshow(rected_image)\n",
    "plt.title(pred_cls[index])"
   ]
  },
  {
   "cell_type": "code",
   "execution_count": 40,
   "metadata": {
    "id": "G3lJjCeE7dSB"
   },
   "outputs": [],
   "source": [
    "model.save('./best_model.h5')"
   ]
  },
  {
   "cell_type": "code",
   "execution_count": null,
   "metadata": {},
   "outputs": [],
   "source": []
  }
 ],
 "metadata": {
  "colab": {
   "collapsed_sections": [],
   "name": "homework.ipynb",
   "private_outputs": true,
   "provenance": []
  },
  "kernelspec": {
   "display_name": "Python 3",
   "language": "python",
   "name": "python3"
  },
  "language_info": {
   "codemirror_mode": {
    "name": "ipython",
    "version": 3
   },
   "file_extension": ".py",
   "mimetype": "text/x-python",
   "name": "python",
   "nbconvert_exporter": "python",
   "pygments_lexer": "ipython3",
   "version": "3.7.10"
  }
 },
 "nbformat": 4,
 "nbformat_minor": 1
}
