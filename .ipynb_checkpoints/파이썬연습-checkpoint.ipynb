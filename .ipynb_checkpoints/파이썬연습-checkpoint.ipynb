{
 "cells": [
  {
   "cell_type": "code",
   "execution_count": null,
   "metadata": {
    "colab": {
     "base_uri": "https://localhost:8080/"
    },
    "id": "kYRk9wFLYFfC",
    "outputId": "a38d78e6-0f2d-4d1c-efee-3f43b1964ed8"
   },
   "outputs": [
    {
     "data": {
      "text/plain": [
       "True"
      ]
     },
     "execution_count": 81,
     "metadata": {},
     "output_type": "execute_result"
    }
   ],
   "source": [
    "a = [1,2,3,4,5]\n",
    "3 not in a\n",
    "\n"
   ]
  },
  {
   "cell_type": "code",
   "execution_count": null,
   "metadata": {
    "colab": {
     "base_uri": "https://localhost:8080/"
    },
    "id": "qYLjYrHneu2O",
    "outputId": "d64e0e14-ac3c-4a67-b742-eb773977dfaa"
   },
   "outputs": [
    {
     "data": {
      "text/plain": [
       "True"
      ]
     },
     "execution_count": 82,
     "metadata": {},
     "output_type": "execute_result"
    }
   ],
   "source": [
    "43 in (1,2,3,4,43)"
   ]
  },
  {
   "cell_type": "code",
   "execution_count": null,
   "metadata": {
    "colab": {
     "base_uri": "https://localhost:8080/"
    },
    "id": "3tjkXNuueywx",
    "outputId": "703ece25-2010-4462-a925-a26014ea0d67"
   },
   "outputs": [
    {
     "data": {
      "text/plain": [
       "True"
      ]
     },
     "execution_count": 83,
     "metadata": {},
     "output_type": "execute_result"
    }
   ],
   "source": [
    "1 in range(10)"
   ]
  },
  {
   "cell_type": "code",
   "execution_count": null,
   "metadata": {
    "colab": {
     "base_uri": "https://localhost:8080/"
    },
    "id": "mhzt9vkve8O3",
    "outputId": "d570146f-2c55-4263-ef62-a2adc9fc1b52"
   },
   "outputs": [
    {
     "data": {
      "text/plain": [
       "(0, 1, 2, 3, 4, 5, 6, 7, 8, 9, 10, 11, 12, 13, 14, 15, 16, 17, 18, 19)"
      ]
     },
     "execution_count": 90,
     "metadata": {},
     "output_type": "execute_result"
    }
   ],
   "source": [
    "list(range(0,10)) + list(range(10, 20))\n",
    "tuple(range(0,10)) + tuple(range(10, 20))"
   ]
  },
  {
   "cell_type": "code",
   "execution_count": null,
   "metadata": {
    "colab": {
     "base_uri": "https://localhost:8080/"
    },
    "id": "7Ep2XeyzfiW3",
    "outputId": "b7c7eb86-b308-4f40-d879-3c1bb7721f0b"
   },
   "outputs": [
    {
     "name": "stdout",
     "output_type": "stream",
     "text": [
      "입력: 3\n",
      "hello 0\n",
      "hello 1\n",
      "hello 2\n"
     ]
    }
   ],
   "source": [
    "count = int(input('입력: '))\n",
    "\n",
    "for i in range(count):\n",
    "    print('hello', i)"
   ]
  },
  {
   "cell_type": "code",
   "execution_count": null,
   "metadata": {
    "colab": {
     "base_uri": "https://localhost:8080/"
    },
    "id": "zL618j_YLY5Y",
    "outputId": "ff4e7144-222f-44bd-da47-1c08ec746c16"
   },
   "outputs": [
    {
     "name": "stdout",
     "output_type": "stream",
     "text": [
      "nohtyp"
     ]
    }
   ],
   "source": [
    "letter = 'python'\n",
    "for i in reversed(letter):\n",
    "  print(i, end='')"
   ]
  },
  {
   "cell_type": "code",
   "execution_count": null,
   "metadata": {
    "colab": {
     "base_uri": "https://localhost:8080/"
    },
    "id": "bI9UNtp0MJuX",
    "outputId": "e235c770-73e5-4c18-ba10-f6a49de6e3cc"
   },
   "outputs": [
    {
     "name": "stdout",
     "output_type": "stream",
     "text": [
      "2 4 6 8 10 12 14 16 18 \n",
      "\n",
      "3 6 9 12 15 18 21 24 27 \n",
      "\n",
      "4 8 12 16 20 24 28 32 36 \n",
      "\n",
      "5 10 15 20 25 30 35 40 45 \n",
      "\n",
      "6 12 18 24 30 36 42 48 54 \n",
      "\n",
      "7 14 21 28 35 42 49 56 63 \n",
      "\n",
      "8 16 24 32 40 48 56 64 72 \n",
      "\n",
      "9 18 27 36 45 54 63 72 81 \n",
      "\n"
     ]
    }
   ],
   "source": [
    "for i in range(2,10):\n",
    "    for j in range(1,10):\n",
    "        print(i*j, end=' ')\n",
    "        if(j==9):\n",
    "            print('\\n')"
   ]
  },
  {
   "cell_type": "code",
   "execution_count": null,
   "metadata": {
    "colab": {
     "base_uri": "https://localhost:8080/"
    },
    "id": "L6KZeEWoNzzK",
    "outputId": "ca3acb5a-7b84-4bc4-8c91-a6f6c924f863"
   },
   "outputs": [
    {
     "name": "stdout",
     "output_type": "stream",
     "text": [
      "1\n",
      "2\n",
      "3\n",
      "4\n",
      "5\n"
     ]
    }
   ],
   "source": [
    "a = [1,2,3 , 4, 5]\n",
    "for ele in a:\n",
    "  print(ele)"
   ]
  },
  {
   "cell_type": "markdown",
   "metadata": {
    "id": "h0AD44QwONAu"
   },
   "source": [
    "x = [1,2]\n",
    "y = x\n",
    "x.append(3)\n",
    "y"
   ]
  },
  {
   "cell_type": "code",
   "execution_count": null,
   "metadata": {
    "colab": {
     "base_uri": "https://localhost:8080/"
    },
    "id": "n09TzH3hT9Ch",
    "outputId": "ae855064-1699-41d5-c2df-36c6cc9d9571"
   },
   "outputs": [
    {
     "data": {
      "text/plain": [
       "30"
      ]
     },
     "execution_count": 292,
     "metadata": {},
     "output_type": "execute_result"
    }
   ],
   "source": [
    "a = [10,20,30, 40]\n",
    "a.__getitem__(2)\n"
   ]
  },
  {
   "cell_type": "markdown",
   "metadata": {
    "id": "hNcC8gK2XaaH"
   },
   "source": [
    "def func(parameter_1, parameter_2):\n",
    "    return parameter_1 + 1\n",
    "\n",
    "a=[10,20]\n",
    "b=func(a[0], a[1])\n",
    "print(b)\n",
    "print(a)\n",
    "\n"
   ]
  },
  {
   "cell_type": "code",
   "execution_count": null,
   "metadata": {
    "colab": {
     "base_uri": "https://localhost:8080/"
    },
    "id": "yF3lA2-3PX5t",
    "outputId": "1b1305c1-bdd3-4edf-97a8-605cfe09d9f5"
   },
   "outputs": [
    {
     "name": "stdout",
     "output_type": "stream",
     "text": [
      "3\n",
      "s\n",
      "s\n",
      "s\n"
     ]
    }
   ],
   "source": [
    "count = int(input())\n",
    "\n",
    "i=0\n",
    "while i< count:\n",
    "  print(\"s\")\n",
    "  i+=1"
   ]
  },
  {
   "cell_type": "code",
   "execution_count": null,
   "metadata": {
    "colab": {
     "base_uri": "https://localhost:8080/"
    },
    "id": "kJqgc-uzPsWx",
    "outputId": "a19a6da2-03b0-4223-c8a8-922dbb5860b2"
   },
   "outputs": [
    {
     "name": "stdout",
     "output_type": "stream",
     "text": [
      "6 종료\n"
     ]
    }
   ],
   "source": [
    "import random\n",
    "\n",
    "while(1):\n",
    "   num = random.randint(1,6)\n",
    "   print(num, end=' ')\n",
    "   if(num == 6):\n",
    "     break;\n",
    "print(\"종료\")\n",
    "   "
   ]
  },
  {
   "cell_type": "markdown",
   "metadata": {
    "id": "8d-G69B2QxpD"
   },
   "source": [
    "for i in range(1,21):\n",
    "  if(i % 2 == 0):\n",
    "    continue\n",
    "  print(i)"
   ]
  },
  {
   "cell_type": "code",
   "execution_count": null,
   "metadata": {
    "colab": {
     "base_uri": "https://localhost:8080/"
    },
    "id": "GUQBjMnXRYFc",
    "outputId": "39cc321e-b9b7-4fb9-bf83-49549c318330"
   },
   "outputs": [
    {
     "name": "stdout",
     "output_type": "stream",
     "text": [
      "3\n",
      "13\n",
      "23\n",
      "33\n",
      "43\n",
      "53\n",
      "63\n",
      "73\n",
      "83\n",
      "93\n"
     ]
    }
   ],
   "source": [
    "for i in range(0, 100):\n",
    "  if(i%10 == 3):\n",
    "    print(i)\n",
    "  else:\n",
    "    pass\n"
   ]
  },
  {
   "cell_type": "code",
   "execution_count": null,
   "metadata": {
    "colab": {
     "base_uri": "https://localhost:8080/"
    },
    "id": "DhVTUkJNScLp",
    "outputId": "6027e36c-b5f2-4654-ce62-f42991bc2abb"
   },
   "outputs": [
    {
     "name": "stdout",
     "output_type": "stream",
     "text": [
      "*    \n",
      " *   \n",
      "  *  \n",
      "   * \n",
      "    *\n"
     ]
    }
   ],
   "source": [
    "for i in range(5):\n",
    "  for j in range(5):\n",
    "    if( j == i):\n",
    "        print('*', end='')\n",
    "    else:\n",
    "      print(' ', end='')\n",
    "  print()"
   ]
  },
  {
   "cell_type": "code",
   "execution_count": null,
   "metadata": {
    "colab": {
     "base_uri": "https://localhost:8080/"
    },
    "id": "ICm49zNvcnWr",
    "outputId": "56be7448-24f9-456e-9750-481caf468a27"
   },
   "outputs": [
    {
     "name": "stdout",
     "output_type": "stream",
     "text": [
      "1 2 Fizz 4 Buzz\n",
      "Fizz 7 8 Fizz Buzz\n",
      "11 Fizz 13 14 fizzbuzz\n",
      "16 17 Fizz 19 Buzz\n",
      "Fizz 22 23 Fizz Buzz\n",
      "26 Fizz 28 29 fizzbuzz\n",
      "31 32 Fizz 34 Buzz\n",
      "Fizz 37 38 Fizz Buzz\n",
      "41 Fizz 43 44 fizzbuzz\n",
      "46 47 Fizz 49 Buzz\n",
      "Fizz 52 53 Fizz Buzz\n",
      "56 Fizz 58 59 fizzbuzz\n",
      "61 62 Fizz 64 Buzz\n",
      "Fizz 67 68 Fizz Buzz\n",
      "71 Fizz 73 74 fizzbuzz\n",
      "76 77 Fizz 79 Buzz\n",
      "Fizz 82 83 Fizz Buzz\n",
      "86 Fizz 88 89 fizzbuzz\n",
      "91 92 Fizz 94 Buzz\n",
      "Fizz 97 98 Fizz Buzz\n"
     ]
    }
   ],
   "source": [
    "i=1\n",
    "while i<101:\n",
    "  \n",
    "  if ((i%3 == 0) and (i%5 == 0)):\n",
    "    print('fizzbuzz')\n",
    "  elif (i%3 == 0):\n",
    "    print('Fizz', end=' ')\n",
    "  elif (i%5 == 0):\n",
    "    print('Buzz')\n",
    "  else:\n",
    "    print(i, end=' ')\n",
    "  i+=1"
   ]
  },
  {
   "cell_type": "code",
   "execution_count": null,
   "metadata": {
    "colab": {
     "base_uri": "https://localhost:8080/"
    },
    "id": "-KRfE00YfsUF",
    "outputId": "0ba093d0-eb6f-49db-b53a-a40b1cf7e177"
   },
   "outputs": [
    {
     "name": "stdout",
     "output_type": "stream",
     "text": [
      "0 번 학생의 성적: [80, 92, 70] 중 수학 성적은  92\n",
      "1 번 학생의 성적: [91, 75, 90] 중 수학 성적은  75\n",
      "2 번 학생의 성적: [86, 96, 42] 중 수학 성적은  96\n",
      "3 번 학생의 성적: [77, 92, 52] 중 수학 성적은  92\n",
      "4 번 학생의 성적: [75, 85, 85] 중 수학 성적은  85\n",
      "5 번 학생의 성적: [96, 90, 95] 중 수학 성적은  90\n",
      "[80, 91, 86, 77, 75, 96]\n"
     ]
    }
   ],
   "source": [
    "import numpy as np\n",
    "\n",
    "scores_list = [\n",
    "    [80, 92, 70],\n",
    "    [91, 75, 90],\n",
    "    [86, 96, 42],\n",
    "    [77, 92, 52],\n",
    "    [75, 85, 85],\n",
    "    [96, 90, 95]  \n",
    "]\n",
    "scores_np = np.array([\n",
    "    [80, 92, 70],\n",
    "    [91, 75, 90],\n",
    "    [86, 96, 42],\n",
    "    [77, 92, 52],\n",
    "    [75, 85, 85],\n",
    "    [96, 90, 95]  \n",
    "])\n",
    "\n",
    "#print(scores_list[1])\n",
    "\n",
    "korean = []\n",
    "\n",
    "for student_number, score in enumerate(scores_list):\n",
    "    print(student_number, '번 학생의 성적:', score, '중 수학 성적은 ', score[1])\n",
    "    korean.append(score[0])\n",
    "\n",
    "print(korean)\n"
   ]
  },
  {
   "cell_type": "code",
   "execution_count": null,
   "metadata": {
    "colab": {
     "base_uri": "https://localhost:8080/"
    },
    "id": "GeQjmQrgjTPg",
    "outputId": "d11a1586-d2d9-4797-a8ff-c4217bec3ba6"
   },
   "outputs": [
    {
     "data": {
      "text/plain": [
       "array([70, 90, 42, 52, 85, 95])"
      ]
     },
     "execution_count": 70,
     "metadata": {},
     "output_type": "execute_result"
    }
   ],
   "source": [
    "scores_np[:,2]"
   ]
  },
  {
   "cell_type": "code",
   "execution_count": null,
   "metadata": {
    "colab": {
     "base_uri": "https://localhost:8080/",
     "height": 222
    },
    "id": "E0fuqRtzjhVV",
    "outputId": "bd38aeb8-5301-4cfa-a834-e556768cc18e"
   },
   "outputs": [
    {
     "name": "stdout",
     "output_type": "stream",
     "text": [
      "[242, 256, 224, 221, 245, 281]\n"
     ]
    },
    {
     "ename": "NameError",
     "evalue": "ignored",
     "output_type": "error",
     "traceback": [
      "\u001b[0;31m---------------------------------------------------------------------------\u001b[0m",
      "\u001b[0;31mNameError\u001b[0m                                 Traceback (most recent call last)",
      "\u001b[0;32m<ipython-input-77-137ef40037ca>\u001b[0m in \u001b[0;36m<module>\u001b[0;34m()\u001b[0m\n\u001b[1;32m      7\u001b[0m \u001b[0mprint\u001b[0m\u001b[0;34m(\u001b[0m\u001b[0mtotal_scores\u001b[0m\u001b[0;34m)\u001b[0m\u001b[0;34m\u001b[0m\u001b[0;34m\u001b[0m\u001b[0m\n\u001b[1;32m      8\u001b[0m \u001b[0;34m\u001b[0m\u001b[0m\n\u001b[0;32m----> 9\u001b[0;31m \u001b[0msocores_np\u001b[0m\u001b[0;34m.\u001b[0m\u001b[0msum\u001b[0m\u001b[0;34m(\u001b[0m\u001b[0maxis\u001b[0m\u001b[0;34m=\u001b[0m\u001b[0;36m1\u001b[0m\u001b[0;34m)\u001b[0m\u001b[0;34m\u001b[0m\u001b[0;34m\u001b[0m\u001b[0m\n\u001b[0m",
      "\u001b[0;31mNameError\u001b[0m: name 'socores_np' is not defined"
     ]
    }
   ],
   "source": [
    "total_scores = []\n",
    "\n",
    "for score in scores_list:\n",
    "  total_score = sum(score)\n",
    "  total_scores.append(total_score)\n",
    "\n",
    "print(total_scores)\n",
    "\n"
   ]
  },
  {
   "cell_type": "code",
   "execution_count": null,
   "metadata": {
    "colab": {
     "base_uri": "https://localhost:8080/"
    },
    "id": "eIUW0bT5liob",
    "outputId": "d6a54d91-5b2c-42ee-a188-5d111c019904"
   },
   "outputs": [
    {
     "data": {
      "text/plain": [
       "array([242, 256, 224, 221, 245, 281])"
      ]
     },
     "execution_count": 80,
     "metadata": {},
     "output_type": "execute_result"
    }
   ],
   "source": [
    "scores_np.sum(axis=1)"
   ]
  },
  {
   "cell_type": "code",
   "execution_count": null,
   "metadata": {
    "colab": {
     "base_uri": "https://localhost:8080/"
    },
    "id": "t1GDc0w8l7hG",
    "outputId": "14f01163-91f5-4fec-bcf3-c8ddb26a1d70"
   },
   "outputs": [
    {
     "data": {
      "text/plain": [
       "array([80.66666667, 85.33333333, 74.66666667, 73.66666667, 81.66666667,\n",
       "       93.66666667])"
      ]
     },
     "execution_count": 82,
     "metadata": {},
     "output_type": "execute_result"
    }
   ],
   "source": [
    "scores_np.mean(axis=1)"
   ]
  },
  {
   "cell_type": "code",
   "execution_count": null,
   "metadata": {
    "colab": {
     "base_uri": "https://localhost:8080/"
    },
    "id": "hIc5VeMfmeJ-",
    "outputId": "1ef4a2a6-b2c5-4e56-b914-f98c4249e80a"
   },
   "outputs": [
    {
     "data": {
      "text/plain": [
       "[[20, 8, 30], [9, 25, 10], [14, 4, 58], [23, 8, 48], [25, 15, 15], [4, 10, 5]]"
      ]
     },
     "execution_count": 83,
     "metadata": {},
     "output_type": "execute_result"
    }
   ],
   "source": [
    "miss_scores = []\n",
    "\n",
    "for scores in scores_list:\n",
    "  miss_score = []\n",
    "  for score in scores:\n",
    "    miss = 100-score\n",
    "    miss_score.append(miss)\n",
    "  miss_scores.append(miss_score)\n",
    "miss_scores"
   ]
  },
  {
   "cell_type": "code",
   "execution_count": null,
   "metadata": {
    "colab": {
     "base_uri": "https://localhost:8080/"
    },
    "id": "yHsUt_MpncEB",
    "outputId": "a5a177af-9a08-4c9f-d280-abcba98e887b"
   },
   "outputs": [
    {
     "data": {
      "text/plain": [
       "array([[161, 185, 141],\n",
       "       [183, 151, 181],\n",
       "       [173, 193,  85],\n",
       "       [155, 185, 105],\n",
       "       [151, 171, 171],\n",
       "       [193, 181, 191]])"
      ]
     },
     "execution_count": 89,
     "metadata": {},
     "output_type": "execute_result"
    }
   ],
   "source": [
    "scores_plus = np.array(scores_np) + 1\n",
    "scores_sum = scores_np + scores_plus\n",
    "\n",
    "scores_sum"
   ]
  },
  {
   "cell_type": "code",
   "execution_count": null,
   "metadata": {
    "colab": {
     "base_uri": "https://localhost:8080/"
    },
    "id": "N8GU7pi8uFRh",
    "outputId": "e6dd67cb-5eba-4ece-dd47-e0c56c7fce07"
   },
   "outputs": [
    {
     "data": {
      "text/plain": [
       "(3, 1, 4)"
      ]
     },
     "execution_count": 90,
     "metadata": {},
     "output_type": "execute_result"
    }
   ],
   "source": [
    "a = [[ ], [[5,6,7,8]],[[9,0,1,2]]]\n",
    "a = np.array(a)\n",
    "a.shape\n"
   ]
  },
  {
   "cell_type": "code",
   "execution_count": null,
   "metadata": {
    "colab": {
     "base_uri": "https://localhost:8080/"
    },
    "id": "RvRlF1BvvQ8Y",
    "outputId": "88374b7a-0e4a-4f2e-c90f-2581b7051909"
   },
   "outputs": [
    {
     "name": "stdout",
     "output_type": "stream",
     "text": [
      "[1 2 3]\n"
     ]
    }
   ],
   "source": [
    "num1 = [1,2,3]\n",
    "np_num1 = np.array(num1)\n",
    "\n",
    "np_num1"
   ]
  },
  {
   "cell_type": "code",
   "execution_count": null,
   "metadata": {
    "colab": {
     "base_uri": "https://localhost:8080/"
    },
    "id": "j0-G1kFNwiOg",
    "outputId": "8a4e5eaa-4982-4b7a-f15f-8ba90e76d302"
   },
   "outputs": [
    {
     "name": "stdout",
     "output_type": "stream",
     "text": [
      "[1.  1.1 1.2 1.3 1.4 1.5 1.6 1.7 1.8 1.9 2.  2.1 2.2 2.3 2.4 2.5 2.6 2.7\n",
      " 2.8 2.9 3.  3.1 3.2 3.3 3.4 3.5 3.6 3.7 3.8 3.9 4.  4.1 4.2 4.3 4.4 4.5\n",
      " 4.6 4.7 4.8 4.9]\n"
     ]
    }
   ],
   "source": [
    "sample = np.arange(1, 5, 0.1)\n",
    "print(sample)"
   ]
  },
  {
   "cell_type": "code",
   "execution_count": null,
   "metadata": {
    "colab": {
     "base_uri": "https://localhost:8080/"
    },
    "id": "u0HzcletxF7p",
    "outputId": "8f5e2b69-0e2c-4ca0-d782-fe5b2d0c0f42"
   },
   "outputs": [
    {
     "name": "stdout",
     "output_type": "stream",
     "text": [
      "[ 0.          1.11111111  2.22222222  3.33333333  4.44444444  5.55555556\n",
      "  6.66666667  7.77777778  8.88888889 10.        ]\n"
     ]
    }
   ],
   "source": [
    "sample = np.linspace(0, 10, 10)\n",
    "print(sample)"
   ]
  },
  {
   "cell_type": "code",
   "execution_count": null,
   "metadata": {
    "colab": {
     "base_uri": "https://localhost:8080/"
    },
    "id": "E05xmWdIxm3R",
    "outputId": "35195ed2-fc83-494f-ce67-bbbc51d17865"
   },
   "outputs": [
    {
     "data": {
      "text/plain": [
       "array([[[1, 2, 3, 4]],\n",
       "\n",
       "       [[5, 6, 7, 8]],\n",
       "\n",
       "       [[8, 9, 0, 1]]])"
      ]
     },
     "execution_count": 124,
     "metadata": {},
     "output_type": "execute_result"
    }
   ],
   "source": [
    "a = [[[1,2,3,4]],[[5,6,7,8]],[[8,9,0,1]]]\n",
    "np_a = np.array(a)\n",
    "\n",
    "np_a[0:3, :,0:4]\n"
   ]
  },
  {
   "cell_type": "code",
   "execution_count": null,
   "metadata": {
    "colab": {
     "base_uri": "https://localhost:8080/"
    },
    "id": "l5WBuzT34zQe",
    "outputId": "80aa140c-348d-41bf-fd21-ce3b4f6ca944"
   },
   "outputs": [
    {
     "data": {
      "text/plain": [
       "array([1, 4])"
      ]
     },
     "execution_count": 151,
     "metadata": {},
     "output_type": "execute_result"
    }
   ],
   "source": [
    "a = [[1,2],\n",
    "     [3,4]]\n",
    "\n",
    "np_a = np.array(a)\n",
    "np_a[[0,1],[0,1]]\n",
    "     "
   ]
  },
  {
   "cell_type": "code",
   "execution_count": null,
   "metadata": {
    "colab": {
     "base_uri": "https://localhost:8080/"
    },
    "id": "V2-mmLY3QGOx",
    "outputId": "d6bb46ec-055f-4637-9b9f-80608143101c"
   },
   "outputs": [
    {
     "data": {
      "text/plain": [
       "3"
      ]
     },
     "execution_count": 22,
     "metadata": {},
     "output_type": "execute_result"
    }
   ],
   "source": [
    "import numpy as np\n",
    "\n",
    "a = np.array([\n",
    "        [ \n",
    "          [1,2,3],\n",
    "          [4,5,6],\n",
    "          [7,8,9]\n",
    "        ],\n",
    "        [\n",
    "          [1,2,3],\n",
    "          [4,5,6],\n",
    "          [7,8,9]\n",
    "        ]\n",
    "    ])\n",
    "\n",
    "a.ndim"
   ]
  },
  {
   "cell_type": "code",
   "execution_count": null,
   "metadata": {
    "colab": {
     "base_uri": "https://localhost:8080/"
    },
    "id": "AoANUmNmYSwU",
    "outputId": "78197b8d-191b-43b0-f163-29bfcb8a1587"
   },
   "outputs": [
    {
     "data": {
      "text/plain": [
       "array([[ 2,  4,  6],\n",
       "       [ 8, 10, 12]])"
      ]
     },
     "execution_count": 50,
     "metadata": {},
     "output_type": "execute_result"
    }
   ],
   "source": [
    "import numpy as np\n",
    "\n",
    "b = np.array([[[1,2,3],[4,5,6]],\n",
    "              [[1,2,3],\n",
    "               [4,5,6]]])\n",
    "\n",
    "b.sum(axis=0)"
   ]
  },
  {
   "cell_type": "code",
   "execution_count": null,
   "metadata": {
    "colab": {
     "base_uri": "https://localhost:8080/"
    },
    "id": "ziWh0z2gbkqJ",
    "outputId": "56a73cb2-c4d7-4f8b-d963-b18ebbc5c14a"
   },
   "outputs": [
    {
     "data": {
      "text/plain": [
       "array([1. , 1.7, 2.4, 3.1, 3.8, 4.5, 5.2, 5.9, 6.6, 7.3, 8. , 8.7, 9.4])"
      ]
     },
     "execution_count": 82,
     "metadata": {},
     "output_type": "execute_result"
    }
   ],
   "source": [
    "np.arange(1,10,0.7)\n",
    "\n",
    "\n"
   ]
  },
  {
   "cell_type": "code",
   "execution_count": null,
   "metadata": {
    "colab": {
     "base_uri": "https://localhost:8080/"
    },
    "id": "_VdFmyFQpJPn",
    "outputId": "f01b901e-c9e0-4ca9-d46c-54f17f642eba"
   },
   "outputs": [
    {
     "name": "stdout",
     "output_type": "stream",
     "text": [
      "[[[80 85]\n",
      "  [92 95]\n",
      "  [70 90]\n",
      "  [65 66]\n",
      "  [92 93]]\n",
      "\n",
      " [[91 93]\n",
      "  [75 70]\n",
      "  [90 80]\n",
      "  [68 60]\n",
      "  [85 81]]\n",
      "\n",
      " [[86 89]\n",
      "  [76 78]\n",
      "  [42 55]\n",
      "  [72 75]\n",
      "  [88 80]]\n",
      "\n",
      " [[77 80]\n",
      "  [92 94]\n",
      "  [52 59]\n",
      "  [60 72]\n",
      "  [80 90]]\n",
      "\n",
      " [[75 70]\n",
      "  [85 82]\n",
      "  [85 81]\n",
      "  [92 95]\n",
      "  [95 72]]\n",
      "\n",
      " [[96 90]\n",
      "  [90 76]\n",
      "  [95 93]\n",
      "  [81 82]\n",
      "  [72 89]]]\n",
      "(6, 5, 2)\n"
     ]
    }
   ],
   "source": [
    "import numpy as np\n",
    "\n",
    "scores = np.array([\n",
    "                   [80,92,70,65,92],\n",
    "                   [91,75,90,68,85],\n",
    "                   [86,76,42,72,88],\n",
    "                   [77,92,52,60,80],\n",
    "                   [75,85,85,92,95],\n",
    "                   [96,90,95,81,72]\n",
    "])\n",
    "\n",
    "final_scores = np.array([\n",
    " [85,95,90,66,93],\n",
    " [93,70,80,60,81],\n",
    " [89,78,55,75,80],\n",
    " [80,94,59,72,90],\n",
    " [70,82,81,95,72],\n",
    " [90,76,93,82,89]\n",
    "])\n",
    "\n",
    "all_scores = np.stack([scores, final_scores], axis=2)\n",
    "print(all_scores)\n",
    "print(all_scores.shape)\n",
    "\n"
   ]
  },
  {
   "cell_type": "code",
   "execution_count": 1,
   "metadata": {
    "id": "hcalzYOrlP7r"
   },
   "outputs": [],
   "source": [
    "import numpy as np\n",
    "from tensorflow.keras.layers import Dense\n",
    "from tensorflow.keras.models import Model\n",
    "import matplotlib.pyplot as plt\n",
    "\n"
   ]
  },
  {
   "cell_type": "code",
   "execution_count": 24,
   "metadata": {
    "colab": {
     "base_uri": "https://localhost:8080/"
    },
    "id": "8ED_peUq0vro",
    "outputId": "93cea5a5-fc30-437c-eb5b-631938ae351b"
   },
   "outputs": [
    {
     "name": "stdout",
     "output_type": "stream",
     "text": [
      "[[1 2 3]\n",
      " [4 5 6]]\n",
      "[[2 3 4]\n",
      " [5 6 7]]\n"
     ]
    },
    {
     "data": {
      "text/plain": [
       "array([[ 3,  5,  7],\n",
       "       [ 9, 11, 13]])"
      ]
     },
     "execution_count": 24,
     "metadata": {},
     "output_type": "execute_result"
    }
   ],
   "source": [
    "A = np.array([[1,2,3], [4,5,6]])\n",
    "B = np.array([[2,3,4], [5,6,7]])\n",
    "print(A)\n",
    "print(B)\n",
    "\n",
    "A + B\n"
   ]
  },
  {
   "cell_type": "code",
   "execution_count": 37,
   "metadata": {
    "colab": {
     "base_uri": "https://localhost:8080/"
    },
    "id": "ZA7qARX02FXD",
    "outputId": "c07ba131-dd00-4941-dc8e-42a0ab0c1af0"
   },
   "outputs": [
    {
     "name": "stdout",
     "output_type": "stream",
     "text": [
      "[0. 1. 2.]\n",
      "[5. 6. 2.]\n"
     ]
    }
   ],
   "source": [
    "a = np.arange(0,3, dtype=np.float)\n",
    "print(a)\n",
    "\n",
    "a[[0,1]] = a[[0,1]] + 5\n",
    "print(a)"
   ]
  },
  {
   "cell_type": "code",
   "execution_count": 46,
   "metadata": {
    "colab": {
     "base_uri": "https://localhost:8080/"
    },
    "id": "Aq6zKnX23BCe",
    "outputId": "5de4f358-9033-452c-d429-0130cc2aa3fc"
   },
   "outputs": [
    {
     "name": "stdout",
     "output_type": "stream",
     "text": [
      "(3, 3)\n",
      "(3,)\n"
     ]
    }
   ],
   "source": [
    "a = np.ones((3,3))\n",
    "b = np.arange(3)\n",
    "\n",
    "print(a.shape)\n",
    "print(b.shape)\n",
    "\n"
   ]
  },
  {
   "cell_type": "code",
   "execution_count": 49,
   "metadata": {
    "colab": {
     "base_uri": "https://localhost:8080/"
    },
    "id": "UXw0NlOg4AFN",
    "outputId": "d233d220-3f95-4b21-87e3-924f4d6bde55"
   },
   "outputs": [
    {
     "data": {
      "text/plain": [
       "array([[14],\n",
       "       [20],\n",
       "       [32]])"
      ]
     },
     "execution_count": 49,
     "metadata": {},
     "output_type": "execute_result"
    }
   ],
   "source": [
    "a = np.array([\n",
    "              [1,2,3],\n",
    "              [2,3,4],\n",
    "              [4,5,6]\n",
    "])\n",
    "\n",
    "b = np.array([\n",
    "              [1],\n",
    "              [2],\n",
    "              [3]\n",
    "])\n",
    "\n",
    "np.matmul(a,b)"
   ]
  },
  {
   "cell_type": "code",
   "execution_count": 85,
   "metadata": {
    "colab": {
     "base_uri": "https://localhost:8080/"
    },
    "id": "fRkYkFNy6CqA",
    "outputId": "2ce92a35-de33-4098-ec20-e90c7aca1836"
   },
   "outputs": [
    {
     "name": "stdout",
     "output_type": "stream",
     "text": [
      "[[59 22]\n",
      " [59 21]\n",
      " [59 81]\n",
      " [22 21]\n",
      " [22 81]\n",
      " [21 81]]\n",
      "[[0.2 0.8]\n",
      " [0.3 0.7]\n",
      " [0.4 0.6]\n",
      " [0.5 0.5]]\n",
      "[[[11.8 17.6]\n",
      "  [17.7 15.4]\n",
      "  [23.6 13.2]\n",
      "  [29.5 11. ]]\n",
      "\n",
      " [[11.8 16.8]\n",
      "  [17.7 14.7]\n",
      "  [23.6 12.6]\n",
      "  [29.5 10.5]]\n",
      "\n",
      " [[11.8 64.8]\n",
      "  [17.7 56.7]\n",
      "  [23.6 48.6]\n",
      "  [29.5 40.5]]\n",
      "\n",
      " [[ 4.4 16.8]\n",
      "  [ 6.6 14.7]\n",
      "  [ 8.8 12.6]\n",
      "  [11.  10.5]]\n",
      "\n",
      " [[ 4.4 64.8]\n",
      "  [ 6.6 56.7]\n",
      "  [ 8.8 48.6]\n",
      "  [11.  40.5]]\n",
      "\n",
      " [[ 4.2 64.8]\n",
      "  [ 6.3 56.7]\n",
      "  [ 8.4 48.6]\n",
      "  [10.5 40.5]]]\n"
     ]
    }
   ],
   "source": [
    "fruits = np.array(['포도', '딸기', '수박', '바나나'])\n",
    "calories = np.array([59, 22, 21, 81])\n",
    "calories_comb = np.array([[59,22],[59,21], [59,81], [22,21], [22,81], [21,81]])\n",
    "propotion = np.array([[0.2,0.8], [0.3,0.7], [0.4,0.6], [0.5,0.5]])\n",
    "\n",
    "print(calories_comb)\n",
    "print(propotion)\n",
    "reshaped_calories_comb = calories_comb.reshape(6,1,2)\n",
    "\n",
    "calories_propotion = reshaped_calories_comb * propotion\n",
    "calories_propotion.shape\n",
    "print(calories_propotion)"
   ]
  },
  {
   "cell_type": "code",
   "execution_count": 86,
   "metadata": {
    "id": "CL1XoCczNVhw"
   },
   "outputs": [],
   "source": [
    "#a = np.array([[0,1,2,3], [4,5,6,7,8], [9,10,11,12]])\n",
    "#a.shape"
   ]
  },
  {
   "cell_type": "code",
   "execution_count": 37,
   "metadata": {
    "colab": {
     "base_uri": "https://localhost:8080/"
    },
    "id": "VYSWR8SEN4jl",
    "outputId": "70bc271f-0c9a-4853-af3f-a6320d785e74"
   },
   "outputs": [
    {
     "name": "stdout",
     "output_type": "stream",
     "text": [
      "[[10 12 14 16 18 20 22]\n",
      " [24 26 28 30 32 34 36]]\n"
     ]
    }
   ],
   "source": [
    "import numpy as np\n",
    "\n",
    "A = np.array([\n",
    " [[ 0, 1, 2, 3, 4, 5, 6],\n",
    " [ 7, 8, 9, 10, 11, 12, 13]],\n",
    "\n",
    " [[ 10, 11, 12, 13, 14, 15, 16],\n",
    "  [17, 18, 19, 20, 21, 22, 23]]])\n",
    "\n",
    "print(A.sum(axis=1))"
   ]
  },
  {
   "cell_type": "code",
   "execution_count": 65,
   "metadata": {
    "colab": {
     "base_uri": "https://localhost:8080/"
    },
    "id": "joD9uI1kDemw",
    "outputId": "ebeb0cee-1e41-4b41-c8ab-9852926eef57"
   },
   "outputs": [
    {
     "data": {
      "text/plain": [
       "2"
      ]
     },
     "execution_count": 65,
     "metadata": {},
     "output_type": "execute_result"
    }
   ],
   "source": [
    "middle_scores = np.array([\n",
    "                   [80,92,70,65,92],\n",
    "                   [91,75,90,68,85],\n",
    "                   [86,76,42,72,88],\n",
    "                   [77,92,52,60,80],\n",
    "                   [75,85,85,92,95],\n",
    "                   [96,90,95,81,72]\n",
    "])\n",
    "\n",
    "final_scores = np.array([\n",
    " [85,95,90,66,93],\n",
    " [93,70,80,60,81],\n",
    " [89,78,55,75,80],\n",
    " [80,94,59,72,90],\n",
    " [70,82,81,95,72],\n",
    " [90,76,93,82,89]\n",
    "])\n",
    "\n",
    "scores = np.stack([middle_scores, final_scores])\n",
    "np.any(scores[:,:,2]<=55, axis=0).sum()"
   ]
  },
  {
   "cell_type": "code",
   "execution_count": 147,
   "metadata": {
    "colab": {
     "base_uri": "https://localhost:8080/",
     "height": 316
    },
    "id": "_Ly8N3Z30FT-",
    "outputId": "3917afca-4125-46e8-9821-a19616ee95a3"
   },
   "outputs": [
    {
     "name": "stdout",
     "output_type": "stream",
     "text": [
      "{'Romance': 3, 'Action': 1}\n",
      "{'Romance': 3, 'Action': 1}\n"
     ]
    },
    {
     "data": {
      "image/png": "[encoded data removed]",
      "text/plain": [
       "<Figure size 432x288 with 1 Axes>"
      ]
     },
     "metadata": {
      "needs_background": "light"
     },
     "output_type": "display_data"
    }
   ],
   "source": [
    "%matplotlib inline\n",
    "import numpy as np\n",
    "import matplotlib.pyplot as plt\n",
    "\n",
    "dataset = np.array([\n",
    "    [3, 104],\n",
    "    [2, 100],\n",
    "    [1, 81],\n",
    "    [101, 10],\n",
    "    [99, 5],\n",
    "    [98, 2],\n",
    "])\n",
    "\n",
    "labels = np.array(['Romance','Romance','Romance',\n",
    "          'Action','Action','Action'])\n",
    "\n",
    "inX = np.array([25, 87])\n",
    "\n",
    "\n",
    "plt.title(\"The Category of Movie\")\n",
    "plt.scatter(dataset[:3,0],dataset[:3,1],label='Romance',\n",
    "            c='g')\n",
    "plt.scatter(dataset[3:,0],dataset[3:,1],label='Action',\n",
    "            c='r')\n",
    "plt.scatter(25,87,label=\"?\",\n",
    "            c='b')\n",
    "\n",
    "\n",
    "#plt.xlabel('The number of Kick')\n",
    "#plt.ylabel('The number of Kiss')\n",
    "#plt.legend()\n",
    "#plt.show()\n",
    "\n",
    "#x_dists = np.array(dataset[:,0] - dataset[:,0])\n",
    "#x_dists\n",
    "\n",
    "dists = (dataset -inX)**2 # x축 거리차의 제곱, x축 거리차의 제곱\n",
    "dists = np.sqrt(dists.sum(axis=1)) #inx와 dataset 모든 점들과의 거리\n",
    "#print(dists)\n",
    "\n",
    "sorted_index = np.argsort(dists) #inx와 거리가 가까운 순으로 정렬\n",
    "#print(sorted_index)\n",
    "\n",
    "sorted_labels = np.where(sorted_index < 3, \"Romance\", \"Action\")\n",
    "K_nearest_labels = sorted_labels[0:4]\n",
    "\n",
    "#print(K_nearest_labels)\n",
    "\n",
    "count_dict = {}\n",
    "for label in K_nearest_labels:\n",
    "    if label in count_dict:\n",
    "        count_dict[label] = count_dict[label] + 1\n",
    "    else:\n",
    "        count_dict[label] = 1\n",
    "print(count_dict)\n",
    "\n",
    "_labels, count_labels = np.unique(count_dict, return_counts=True)\n",
    "print(_labels[count_labels.argmax()])\n",
    "#print(index)\n",
    "\n",
    "#index = np.argmax(counts)\n",
    "#print(index)\n",
    "#_labels, count_labels = np.unique(count_dict, return_counts=True)\n",
    "#_labels[count_labels.argmax()]\n",
    "\n",
    "\n",
    "\n",
    "\n",
    "\n",
    "\n"
   ]
  },
  {
   "cell_type": "code",
   "execution_count": 2,
   "metadata": {
    "colab": {
     "base_uri": "https://localhost:8080/",
     "height": 134
    },
    "id": "1KPNOjiN10aK",
    "outputId": "e2de5162-39f5-421f-8a47-2577667e7cc9"
   },
   "outputs": [
    {
     "data": {
      "text/plain": [
       "{'Romance': 3, 'Action': 1}"
      ]
     },
     "execution_count": 2,
     "metadata": {},
     "output_type": "execute_result"
    },
    {
     "data": {
      "image/png": "[encoded data removed]",
      "text/plain": [
       "<Figure size 432x288 with 1 Axes>"
      ]
     },
     "metadata": {
      "needs_background": "light"
     },
     "output_type": "display_data"
    }
   ],
   "source": [
    "%matplotlib inline\n",
    "import numpy as np\n",
    "import matplotlib.pyplot as plt\n",
    "\n",
    "dataset = np.array([\n",
    "    [3, 104],\n",
    "    [2, 100],\n",
    "    [1, 81],\n",
    "    [101, 10],\n",
    "    [99, 5],\n",
    "    [98, 2],\n",
    "])\n",
    "\n",
    "labels = np.array(['Romance','Romance','Romance',\n",
    "          'Action','Action','Action'])\n",
    "\n",
    "inX = np.array([25, 87])\n",
    "\n",
    "\n",
    "plt.title(\"The Category of Movie\")\n",
    "plt.scatter(dataset[:3,0],dataset[:3,1],label='Romance',\n",
    "            c='g')\n",
    "plt.scatter(dataset[3:,0],dataset[3:,1],label='Action',\n",
    "            c='r')\n",
    "plt.scatter(25,87,label=\"?\",\n",
    "            c='b')\n",
    "\n",
    "\n",
    "#plt.xlabel('The number of Kick')\n",
    "#plt.ylabel('The number of Kiss')\n",
    "#plt.legend()\n",
    "#plt.show()\n",
    "\n",
    "\n",
    "dists = (dataset -inX)**2 # x축 거리차의 제곱, x축 거리차의 제곱\n",
    "dists = np.sqrt(dists.sum(axis=1)) #inx와 dataset 모든 점들과의 거리\n",
    "#print(dists)\n",
    "\n",
    "sorted_index = np.argsort(dists) #inx와 거리가 가까운 순으로 정렬\n",
    "#print(sorted_index)\n",
    "\n",
    "sorted_labels = np.where(sorted_index < 3, \"Romance\", \"Action\")\n",
    "K_nearest_labels = sorted_labels[0:4]\n",
    "\n",
    "#print(K_nearest_labels)\n",
    "\n",
    "count_dict = {}\n",
    "for label in K_nearest_labels:\n",
    "    if label in count_dict:\n",
    "        count_dict[label] = count_dict[label] + 1\n",
    "    else:\n",
    "        count_dict[label] = 1\n",
    "#print(count_dict)\n",
    "\n",
    "np.unique(count_dict, return_counts=True)\n",
    "_labels, count_labels = np.unique(count_dict, return_counts=True)\n",
    "_labels[count_labels.argmax()]\n",
    "\n"
   ]
  },
  {
   "cell_type": "code",
   "execution_count": null,
   "metadata": {},
   "outputs": [],
   "source": []
  }
 ],
 "metadata": {
  "colab": {
   "collapsed_sections": [],
   "name": "파이썬연습.ipynb",
   "provenance": []
  },
  "kernelspec": {
   "display_name": "Python 3",
   "language": "python",
   "name": "python3"
  },
  "language_info": {
   "codemirror_mode": {
    "name": "ipython",
    "version": 3
   },
   "file_extension": ".py",
   "mimetype": "text/x-python",
   "name": "python",
   "nbconvert_exporter": "python",
   "pygments_lexer": "ipython3",
   "version": "3.7.10"
  }
 },
 "nbformat": 4,
 "nbformat_minor": 1
}
