{
 "cells": [
  {
   "cell_type": "code",
   "execution_count": null,
   "id": "5fbabc96",
   "metadata": {},
   "outputs": [],
   "source": [
    "%matplotlib inline\n",
    "import numpy as np\n",
    "\n",
    "import matplotlib.pyplot as plt"
   ]
  },
  {
   "cell_type": "code",
   "execution_count": null,
   "id": "4dfb2d0d",
   "metadata": {},
   "outputs": [],
   "source": [
    "# 예제 데이터 셋 \n",
    "!wget https://s3.ap-northeast-2.amazonaws.com/pai-datasets/alai-deeplearning/kmedian_dataset.csv\n",
    "dataset = np.loadtxt(\"./kmedian_dataset.csv\",delimiter=',')"
   ]
  },
  {
   "cell_type": "code",
   "execution_count": null,
   "id": "c38e7e3a",
   "metadata": {},
   "outputs": [],
   "source": [
    "plt.title(\"The Distribution of Point\")\n",
    "plt.scatter(dataset[:,0], dataset[:,1])\n",
    "plt.show()"
   ]
  },
  {
   "cell_type": "code",
   "execution_count": null,
   "id": "0830fc27",
   "metadata": {},
   "outputs": [],
   "source": [
    "# 예제 데이터셋 시각화\n",
    "centers = np.array([[ 55. , 190. ],\n",
    "                    [138.5,  50. ]])\n",
    "plt.title(\"The Distribution of Point\")\n",
    "plt.scatter(dataset[:,0],dataset[:,1],label='dataset')\n",
    "plt.scatter(centers[:,0],centers[:,1],\n",
    "            s=200, label=\"centroid\", marker='+')\n",
    "plt.legend()\n",
    "plt.show()"
   ]
  },
  {
   "cell_type": "code",
   "execution_count": null,
   "id": "9c39e7fb",
   "metadata": {},
   "outputs": [],
   "source": [
    "def cluster_kmeans(dataset, k):    \n",
    "    # (1) 중심점 초기화\n",
    "    min_x = dataset[:,0].min()\n",
    "    max_x = dataset[:,0].max() \n",
    "    min_y = dataset[:,1].min()\n",
    "    max_y = dataset[:,1].max() \n",
    "\n",
    "    center_x = np.random.uniform(low=min_x, high=max_x, size=k)\n",
    "    center_y = np.random.uniform(low=min_y, high=max_y, size=k)\n",
    "    centroids = np.stack([center_x,center_y],axis=-1)\n",
    "    \n",
    "    # (2) ~ (5) 순회\n",
    "    num_data = dataset.shape[0]\n",
    "    cluster_per_point = np.zeros((num_data)) # 각 점 별 군집\n",
    "\n",
    "\n",
    "    counter = 0\n",
    "    while True:\n",
    "        prev_cluster_per_point = cluster_per_point\n",
    "        \n",
    "        # (2) 거리 계산\n",
    "        diff_mat = (centroids.reshape(-1,1,2) - dataset.reshape(1,-1,2))\n",
    "        dists = np.sqrt((diff_mat**2).sum(axis=-1))\n",
    "        # (3) 각 데이터를 거리가 가장 가까운 군집으로 할당\n",
    "        cluster_per_point = dists.argmin(axis=0)\n",
    "        \n",
    "        # (4) 각 군집 별 점들의 평균을 계산 후, 군집의 중심점을 다시 계산\n",
    "        for i in range(k):\n",
    "            centroids[i] = dataset[cluster_per_point==i].mean(axis=0)\n",
    "\n",
    "        if np.all(prev_cluster_per_point == cluster_per_point):\n",
    "            break\n",
    "\n",
    "        counter += 1\n",
    "        plt.title(\"{}th Distribution of Dataset\".format(counter))\n",
    "        for idx, color in enumerate(['r','g','b','y']):\n",
    "            mask = (cluster_per_point==idx)\n",
    "            plt.scatter(dataset[mask,0],dataset[mask,1],\n",
    "                        label='dataset', c=color)\n",
    "            plt.scatter(centroids[:,0],centroids[:,1],\n",
    "                        s=200, label=\"centroid\", marker='+')\n",
    "        plt.show()\n",
    "    \n",
    "    return centroids"
   ]
  },
  {
   "cell_type": "code",
   "execution_count": null,
   "id": "670c8360",
   "metadata": {},
   "outputs": [],
   "source": [
    "cluster_kmeans(dataset,2)"
   ]
  },
  {
   "cell_type": "code",
   "execution_count": null,
   "id": "6d9cbc10",
   "metadata": {},
   "outputs": [],
   "source": [
    "def cluster_kmedians(dataset, k):    \n",
    "    ##########\n",
    "    min_x = dataset[:,0].min()\n",
    "    max_x = dataset[:,0].max() \n",
    "    min_y = dataset[:,1].min()\n",
    "    max_y = dataset[:,1].max() \n",
    "\n",
    "    center_x = np.random.uniform(low=min_x, high=max_x, size=k)\n",
    "    center_y = np.random.uniform(low=min_y, high=max_y, size=k)\n",
    "    centroids = np.stack([center_x,center_y],axis=-1)\n",
    "    \n",
    "    num_data = dataset.shape[0]\n",
    "    cluster_per_point = np.zeros((num_data)) # 각 점 별 군집\n",
    "    \n",
    "    counter = 0\n",
    "    while True:\n",
    "        prev_cluster_per_point = cluster_per_point\n",
    "        \n",
    "        # (2) 거리 계산\n",
    "        diff_mat = (centroids.reshape(-1,1,2) - dataset.reshape(1,-1,2))\n",
    "        dists = np.abs(diff_mat).sum(axis=2)\n",
    "        \n",
    "        # (3) 각 데이터를 거리가 가장 가까운 군집으로 할당\n",
    "        cluster_per_point = dists.argmin(axis=0)\n",
    "        \n",
    "        \n",
    "        # (4) 각 군집 별 점들의 평균을 계산 후, 군집의 중심점을 다시 계산\n",
    "        for i in range(k):\n",
    "            centroids[i] = dataset[cluster_per_point==i].mean(axis=0)\n",
    "\n",
    "        if np.all(prev_cluster_per_point == cluster_per_point):\n",
    "            break\n",
    "\n",
    "        counter += 1\n",
    "        plt.title(\"{}th Distribution of Dataset\".format(counter))\n",
    "        for idx, color in enumerate(['r','g','b','y']):\n",
    "            mask = (cluster_per_point==idx)\n",
    "            plt.scatter(dataset[mask,0],dataset[mask,1],\n",
    "                        label='dataset', c=color)\n",
    "            plt.scatter(centroids[:,0],centroids[:,1],\n",
    "                        s=200, label=\"centroid\", marker='+')\n",
    "        plt.show()\n",
    "    \n",
    "    ##########        \n",
    "    return centroids"
   ]
  },
  {
   "cell_type": "code",
   "execution_count": null,
   "id": "fa135b18",
   "metadata": {},
   "outputs": [],
   "source": [
    "cluster_kmedians(dataset,2)"
   ]
  }
 ],
 "metadata": {
  "kernelspec": {
   "display_name": "Python 3",
   "language": "python",
   "name": "python3"
  },
  "language_info": {
   "codemirror_mode": {
    "name": "ipython",
    "version": 3
   },
   "file_extension": ".py",
   "mimetype": "text/x-python",
   "name": "python",
   "nbconvert_exporter": "python",
   "pygments_lexer": "ipython3",
   "version": "3.7.10"
  }
 },
 "nbformat": 4,
 "nbformat_minor": 5
}
