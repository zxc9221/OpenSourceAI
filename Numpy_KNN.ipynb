{
 "cells": [
  {
   "cell_type": "code",
   "execution_count": 1,
   "id": "12ade091",
   "metadata": {},
   "outputs": [],
   "source": [
    "%matplotlib inline\n",
    "import numpy as np\n",
    "import matplotlib.pyplot as plt"
   ]
  },
  {
   "cell_type": "code",
   "execution_count": 2,
   "id": "0c72aa48",
   "metadata": {},
   "outputs": [],
   "source": [
    "# 0번째 열 : 킥 횟수, 1번째 열 : 키스 횟수\n",
    "dataset = np.array([\n",
    "    [3, 104],\n",
    "    [2, 100],\n",
    "    [1, 81],\n",
    "    [101, 10],\n",
    "    [99, 5],\n",
    "    [98, 2],\n",
    "])\n",
    "\n",
    "labels = np.array(['Romance','Romance','Romance',\n",
    "          'Action','Action','Action'])\n",
    "\n",
    "inX = np.array([25, 87])"
   ]
  },
  {
   "cell_type": "code",
   "execution_count": 3,
   "id": "c2090cb4",
   "metadata": {},
   "outputs": [
    {
     "data": {
      "image/png": "[encoded data removed]",
      "text/plain": [
       "<Figure size 432x288 with 1 Axes>"
      ]
     },
     "metadata": {
      "needs_background": "light"
     },
     "output_type": "display_data"
    }
   ],
   "source": [
    "plt.title(\"The Category of Movie\")\n",
    "plt.scatter(dataset[:3,0],dataset[:3,1],label='Romance',\n",
    "            c='g')\n",
    "plt.scatter(dataset[3:,0],dataset[3:,1],label='Action',\n",
    "            c='r')\n",
    "plt.scatter(25,87,label=\"?\",\n",
    "            c='b')\n",
    "\n",
    "\n",
    "plt.xlabel('The number of Kick')\n",
    "plt.ylabel('The number of Kiss')\n",
    "plt.legend()\n",
    "plt.show()"
   ]
  },
  {
   "cell_type": "code",
   "execution_count": 4,
   "id": "b1a2d225",
   "metadata": {},
   "outputs": [
    {
     "data": {
      "text/plain": [
       "array([ 27.80287755,  26.41968963,  24.73863375, 108.1896483 ,\n",
       "       110.45361017, 112.04463396])"
      ]
     },
     "execution_count": 4,
     "metadata": {},
     "output_type": "execute_result"
    }
   ],
   "source": [
    "# broadcasting을 이용하면 보다 간결하고 빠른 코드를 작성할 수 있습니다.\n",
    "## ⚠️⚠️⚠️ 반복문, 순회문 사용하지 않고 numpy broadcasting 을 사용해 구현하세요. ⚠️⚠️⚠️\n",
    "\n",
    "# 위 정의한 inX와 그 이외의 모든 점들과의 거리를 계산합니다. \n",
    "# 거리는 위 정의한 l2 distance 을 사용합니다. \n",
    "dists = dataset - inX\n",
    "dists = np.array(np.sqrt(dists[:,0]**2 + dists[:,1]**2))\n",
    "dists"
   ]
  },
  {
   "cell_type": "code",
   "execution_count": 5,
   "id": "3d5ffc1f",
   "metadata": {},
   "outputs": [
    {
     "data": {
      "text/plain": [
       "array([2, 1, 0, 3, 4, 5], dtype=int64)"
      ]
     },
     "execution_count": 5,
     "metadata": {},
     "output_type": "execute_result"
    }
   ],
   "source": [
    "# 오름차순으로 정렬된 인덱스 순을 반환\n",
    "# numpy 을 사용해 위 생성한 거리(dists) 에서 거리가 가장 짧은 데이터의 index을 정렬(sort) 합니다. \n",
    "sorted_index = np.argsort(dists)\n",
    "sorted_index"
   ]
  },
  {
   "cell_type": "code",
   "execution_count": 6,
   "id": "44aac98a",
   "metadata": {},
   "outputs": [],
   "source": [
    "# 위 생성한 sorted index 을 사용해 거리가 가장 짧은 순서대로 labels 을 나열합니다. \n",
    "sorted_labels = labels[sorted_index]\n",
    "# 위 생성한 sorted_labels 을 활용해 거리가 가장 가까운 k=4 개의 데이터를 가져옵니다. \n",
    "K_nearest_labels = sorted_labels[:4]"
   ]
  },
  {
   "cell_type": "code",
   "execution_count": 7,
   "id": "9699cbb8",
   "metadata": {},
   "outputs": [
    {
     "data": {
      "text/plain": [
       "array(['Romance', 'Romance', 'Romance', 'Action'], dtype='<U7')"
      ]
     },
     "execution_count": 7,
     "metadata": {},
     "output_type": "execute_result"
    }
   ],
   "source": [
    "K_nearest_labels\n"
   ]
  },
  {
   "cell_type": "code",
   "execution_count": 8,
   "id": "d30f9492",
   "metadata": {},
   "outputs": [
    {
     "data": {
      "text/plain": [
       "{'Romance': 3, 'Action': 1}"
      ]
     },
     "execution_count": 8,
     "metadata": {},
     "output_type": "execute_result"
    }
   ],
   "source": [
    "# K 개의 아이템에서 각 항목이 몇번씩 등작했는지 count합니다. \n",
    "count_dict = {}\n",
    "\n",
    "for label in K_nearest_labels:\n",
    "    try: count_dict[label] += 1\n",
    "    except: count_dict[label] = 1\n",
    "\n",
    "count_dict"
   ]
  },
  {
   "cell_type": "code",
   "execution_count": 9,
   "id": "5e38a895",
   "metadata": {},
   "outputs": [
    {
     "data": {
      "text/plain": [
       "'Romance'"
      ]
     },
     "execution_count": 9,
     "metadata": {},
     "output_type": "execute_result"
    }
   ],
   "source": [
    "# 제일 많이 등장한 횟수를 찾아 반환합니다. \n",
    "# 해당 예제에서는 Romance 을 반환해야 합니다. \n",
    "# np.unique 함수를 사용해야 합니다. \n",
    "_labels, count_labels = np.unique(K_nearest_labels, return_counts=True)\n",
    "_labels[count_labels.argmax()]"
   ]
  },
  {
   "cell_type": "code",
   "execution_count": 10,
   "id": "b9f832c3",
   "metadata": {},
   "outputs": [],
   "source": [
    "def classify_knn(inX, dataset, labels, K):\n",
    "    dists = dataset - inX\n",
    "    dists = np.array(np.sqrt(dists[:,0]**2 + dists[:,1]**2))\n",
    "    \n",
    "    sorted_index = np.argsort(dists)\n",
    "\n",
    "    sorted_labels = labels[sorted_index]\n",
    "    K_nearest_labels = sorted_labels[:4]\n",
    "    \n",
    "    _labels, count_labels = np.unique(K_nearest_labels, return_counts=True)\n",
    "    _labels[count_labels.argmax()]\n",
    "\n",
    "    return _labels[count_labels.argmax()]"
   ]
  },
  {
   "cell_type": "code",
   "execution_count": 11,
   "id": "7a6ffa15",
   "metadata": {},
   "outputs": [
    {
     "data": {
      "text/plain": [
       "'Action'"
      ]
     },
     "execution_count": 11,
     "metadata": {},
     "output_type": "execute_result"
    }
   ],
   "source": [
    "# 킥 횟수가 52번, 키스 횟수가 10번인 작품\n",
    "classify_knn([52, 10], dataset, labels, 4)"
   ]
  },
  {
   "cell_type": "code",
   "execution_count": 12,
   "id": "1fea4dd7",
   "metadata": {},
   "outputs": [
    {
     "data": {
      "text/plain": [
       "'Romance'"
      ]
     },
     "execution_count": 12,
     "metadata": {},
     "output_type": "execute_result"
    }
   ],
   "source": [
    "# 킥 횟수가 19번, 키스 횟수가 72번인 작품\n",
    "classify_knn([19, 72], dataset, labels, 4)"
   ]
  },
  {
   "cell_type": "code",
   "execution_count": null,
   "id": "ca038273",
   "metadata": {},
   "outputs": [],
   "source": []
  }
 ],
 "metadata": {
  "kernelspec": {
   "display_name": "Python 3",
   "language": "python",
   "name": "python3"
  },
  "language_info": {
   "codemirror_mode": {
    "name": "ipython",
    "version": 3
   },
   "file_extension": ".py",
   "mimetype": "text/x-python",
   "name": "python",
   "nbconvert_exporter": "python",
   "pygments_lexer": "ipython3",
   "version": "3.7.10"
  }
 },
 "nbformat": 4,
 "nbformat_minor": 5
}
